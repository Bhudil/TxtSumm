{
 "cells": [
  {
   "cell_type": "markdown",
   "metadata": {
    "colab_type": "text",
    "id": "WYdMwvYn42jw"
   },
   "source": [
    "# **Text Summarization using NLP(ML-MODEL)**\n",
    "\n",
    "\n",
    "**What is text summarization?**\n",
    "\n",
    "Text summarization is the process of extracting the most important information from a source text."
   ]
  },
  {
   "cell_type": "markdown",
   "metadata": {
    "colab_type": "text",
    "id": "s9xxDWxC-1eM"
   },
   "source": [
    "\n",
    "\n",
    "**How to do text summarization**\n",
    "\n",
    "\n",
    "*   Text cleaning\n",
    "*   Sentence tokenization\n",
    "*   Word tokenzation\n",
    "*   Word-frequency table\n",
    "*   Summarization "
   ]
  },
  {
   "cell_type": "code",
   "execution_count": 38,
   "metadata": {
    "colab": {},
    "colab_type": "code",
    "id": "2JqLo7pWYD1o"
   },
   "outputs": [],
   "source": [
    " text = \"\"\"\n",
    " Maria Sharapova has basically no friends as tennis players on the WTA Tour. The Russian player has no problems in openly speaking about it and in a recent interview she said: 'I don't really hide any feelings too much. \n",
    " I think everyone knows this is my job here. When I'm on the courts or when I'm on the court playing, I'm a competitor and I want to beat every single person whether they're in the locker room or across the net.\n",
    " So I'm not the one to strike up a conversation about the weather and know that in the next few minutes I have to go and try to win a tennis match. \n",
    " I'm a pretty competitive girl. I say my hellos, but I'm not sending any players flowers as well. Uhm, I'm not really friendly or close to many players.\n",
    " I have not a lot of friends away from the courts.' When she said she is not really close to a lot of players, is that something strategic that she is doing? Is it different on the men's tour than the women's tour? 'No, not at all.\n",
    " I think just because you're in the same sport doesn't mean that you have to be friends with everyone just because you're categorized, you're a tennis player, so you're going to get along with tennis players. \n",
    " I think every person has different interests. I have friends that have completely different jobs and interests, and I've met them in very different parts of my life.\n",
    " I think everyone just thinks because we're tennis players we should be the greatest of friends. But ultimately tennis is just a very small part of what we do. \n",
    " There are so many other things that we're interested in, that we do.'\n",
    " \"\"\""
   ]
  },
  {
   "cell_type": "code",
   "execution_count": 3,
   "metadata": {
    "colab": {},
    "colab_type": "code",
    "id": "6Ehfk3s8ZL0b"
   },
   "outputs": [
    {
     "name": "stdout",
     "output_type": "stream",
     "text": [
      "Collecting spacy\n",
      "  Obtaining dependency information for spacy from https://files.pythonhosted.org/packages/d6/9e/8afc618cfed4b5dc602b11754d4d9193a268439704defae301bffca7f04c/spacy-3.6.1-cp311-cp311-win_amd64.whl.metadata\n",
      "  Downloading spacy-3.6.1-cp311-cp311-win_amd64.whl.metadata (26 kB)\n",
      "Collecting spacy-legacy<3.1.0,>=3.0.11 (from spacy)\n",
      "  Downloading spacy_legacy-3.0.12-py2.py3-none-any.whl (29 kB)\n",
      "Collecting spacy-loggers<2.0.0,>=1.0.0 (from spacy)\n",
      "  Obtaining dependency information for spacy-loggers<2.0.0,>=1.0.0 from https://files.pythonhosted.org/packages/33/78/d1a1a026ef3af911159398c939b1509d5c36fe524c7b644f34a5146c4e16/spacy_loggers-1.0.5-py3-none-any.whl.metadata\n",
      "  Downloading spacy_loggers-1.0.5-py3-none-any.whl.metadata (23 kB)\n",
      "Collecting murmurhash<1.1.0,>=0.28.0 (from spacy)\n",
      "  Obtaining dependency information for murmurhash<1.1.0,>=0.28.0 from https://files.pythonhosted.org/packages/71/46/af01a20ec368bd9cb49a1d2df15e3eca113bbf6952cc1f2a47f1c6801a7f/murmurhash-1.0.10-cp311-cp311-win_amd64.whl.metadata\n",
      "  Downloading murmurhash-1.0.10-cp311-cp311-win_amd64.whl.metadata (2.0 kB)\n",
      "Collecting cymem<2.1.0,>=2.0.2 (from spacy)\n",
      "  Obtaining dependency information for cymem<2.1.0,>=2.0.2 from https://files.pythonhosted.org/packages/c1/c3/dd044e6f62a3d317c461f6f0c153c6573ed13025752d779e514000c15dd2/cymem-2.0.8-cp311-cp311-win_amd64.whl.metadata\n",
      "  Downloading cymem-2.0.8-cp311-cp311-win_amd64.whl.metadata (8.6 kB)\n",
      "Collecting preshed<3.1.0,>=3.0.2 (from spacy)\n",
      "  Obtaining dependency information for preshed<3.1.0,>=3.0.2 from https://files.pythonhosted.org/packages/e4/fc/78cdbdb79f5d6d45949e72c32445d6c060977ad50a1dcfc0392622165f7c/preshed-3.0.9-cp311-cp311-win_amd64.whl.metadata\n",
      "  Downloading preshed-3.0.9-cp311-cp311-win_amd64.whl.metadata (2.2 kB)\n",
      "Collecting thinc<8.2.0,>=8.1.8 (from spacy)\n",
      "  Obtaining dependency information for thinc<8.2.0,>=8.1.8 from https://files.pythonhosted.org/packages/ea/65/9fe6fe1ddb5fd34b7b81dada121e6862791e624384a2964331d0228aea38/thinc-8.1.12-cp311-cp311-win_amd64.whl.metadata\n",
      "  Downloading thinc-8.1.12-cp311-cp311-win_amd64.whl.metadata (15 kB)\n",
      "Collecting wasabi<1.2.0,>=0.9.1 (from spacy)\n",
      "  Obtaining dependency information for wasabi<1.2.0,>=0.9.1 from https://files.pythonhosted.org/packages/8f/69/26cbf0bad11703241cb84d5324d868097f7a8faf2f1888354dac8883f3fc/wasabi-1.1.2-py3-none-any.whl.metadata\n",
      "  Downloading wasabi-1.1.2-py3-none-any.whl.metadata (28 kB)\n",
      "Collecting srsly<3.0.0,>=2.4.3 (from spacy)\n",
      "  Obtaining dependency information for srsly<3.0.0,>=2.4.3 from https://files.pythonhosted.org/packages/eb/f5/e3f29993f673d91623df6413ba64e815dd2676fd7932cbc5e7347402ddae/srsly-2.4.8-cp311-cp311-win_amd64.whl.metadata\n",
      "  Downloading srsly-2.4.8-cp311-cp311-win_amd64.whl.metadata (20 kB)\n",
      "Collecting catalogue<2.1.0,>=2.0.6 (from spacy)\n",
      "  Obtaining dependency information for catalogue<2.1.0,>=2.0.6 from https://files.pythonhosted.org/packages/9e/96/d32b941a501ab566a16358d68b6eb4e4acc373fab3c3c4d7d9e649f7b4bb/catalogue-2.0.10-py3-none-any.whl.metadata\n",
      "  Downloading catalogue-2.0.10-py3-none-any.whl.metadata (14 kB)\n",
      "Collecting typer<0.10.0,>=0.3.0 (from spacy)\n",
      "  Downloading typer-0.9.0-py3-none-any.whl (45 kB)\n",
      "     ---------------------------------------- 0.0/45.9 kB ? eta -:--:--\n",
      "     ---------------------------------------- 45.9/45.9 kB ? eta 0:00:00\n",
      "Collecting pathy>=0.10.0 (from spacy)\n",
      "  Obtaining dependency information for pathy>=0.10.0 from https://files.pythonhosted.org/packages/b5/c3/04a002ace658133f5ac48d30258ed9ceab720595dc1ac36df02fe52018af/pathy-0.10.2-py3-none-any.whl.metadata\n",
      "  Downloading pathy-0.10.2-py3-none-any.whl.metadata (16 kB)\n",
      "Requirement already satisfied: smart-open<7.0.0,>=5.2.1 in c:\\users\\bhudi\\anaconda3\\lib\\site-packages (from spacy) (5.2.1)\n",
      "Requirement already satisfied: tqdm<5.0.0,>=4.38.0 in c:\\users\\bhudi\\anaconda3\\lib\\site-packages (from spacy) (4.65.0)\n",
      "Requirement already satisfied: numpy>=1.15.0 in c:\\users\\bhudi\\anaconda3\\lib\\site-packages (from spacy) (1.24.3)\n",
      "Requirement already satisfied: requests<3.0.0,>=2.13.0 in c:\\users\\bhudi\\anaconda3\\lib\\site-packages (from spacy) (2.31.0)\n",
      "Collecting pydantic!=1.8,!=1.8.1,<3.0.0,>=1.7.4 (from spacy)\n",
      "  Obtaining dependency information for pydantic!=1.8,!=1.8.1,<3.0.0,>=1.7.4 from https://files.pythonhosted.org/packages/73/66/0a72c9fcde42e5650c8d8d5c5c1873b9a3893018020c77ca8eb62708b923/pydantic-2.4.2-py3-none-any.whl.metadata\n",
      "  Downloading pydantic-2.4.2-py3-none-any.whl.metadata (158 kB)\n",
      "     ---------------------------------------- 0.0/158.6 kB ? eta -:--:--\n",
      "     -------------------------------------- 158.6/158.6 kB 9.3 MB/s eta 0:00:00\n",
      "Requirement already satisfied: jinja2 in c:\\users\\bhudi\\anaconda3\\lib\\site-packages (from spacy) (3.1.2)\n",
      "Requirement already satisfied: setuptools in c:\\users\\bhudi\\anaconda3\\lib\\site-packages (from spacy) (68.1.2)\n",
      "Requirement already satisfied: packaging>=20.0 in c:\\users\\bhudi\\anaconda3\\lib\\site-packages (from spacy) (23.0)\n",
      "Collecting langcodes<4.0.0,>=3.2.0 (from spacy)\n",
      "  Downloading langcodes-3.3.0-py3-none-any.whl (181 kB)\n",
      "     ---------------------------------------- 0.0/181.6 kB ? eta -:--:--\n",
      "     ---------------------------------------- 181.6/181.6 kB ? eta 0:00:00\n",
      "Collecting annotated-types>=0.4.0 (from pydantic!=1.8,!=1.8.1,<3.0.0,>=1.7.4->spacy)\n",
      "  Obtaining dependency information for annotated-types>=0.4.0 from https://files.pythonhosted.org/packages/d8/f0/a2ee543a96cc624c35a9086f39b1ed2aa403c6d355dfe47a11ee5c64a164/annotated_types-0.5.0-py3-none-any.whl.metadata\n",
      "  Downloading annotated_types-0.5.0-py3-none-any.whl.metadata (11 kB)\n",
      "Collecting pydantic-core==2.10.1 (from pydantic!=1.8,!=1.8.1,<3.0.0,>=1.7.4->spacy)\n",
      "  Obtaining dependency information for pydantic-core==2.10.1 from https://files.pythonhosted.org/packages/7c/49/bd863a3d7c5412d739f3a28da0f437f25ccfa92413675c93412e64b812ed/pydantic_core-2.10.1-cp311-none-win_amd64.whl.metadata\n",
      "  Downloading pydantic_core-2.10.1-cp311-none-win_amd64.whl.metadata (6.6 kB)\n",
      "Requirement already satisfied: typing-extensions>=4.6.1 in c:\\users\\bhudi\\anaconda3\\lib\\site-packages (from pydantic!=1.8,!=1.8.1,<3.0.0,>=1.7.4->spacy) (4.7.1)\n",
      "Requirement already satisfied: charset-normalizer<4,>=2 in c:\\users\\bhudi\\anaconda3\\lib\\site-packages (from requests<3.0.0,>=2.13.0->spacy) (2.0.4)\n",
      "Requirement already satisfied: idna<4,>=2.5 in c:\\users\\bhudi\\anaconda3\\lib\\site-packages (from requests<3.0.0,>=2.13.0->spacy) (3.4)\n",
      "Requirement already satisfied: urllib3<3,>=1.21.1 in c:\\users\\bhudi\\anaconda3\\lib\\site-packages (from requests<3.0.0,>=2.13.0->spacy) (1.26.16)\n",
      "Requirement already satisfied: certifi>=2017.4.17 in c:\\users\\bhudi\\anaconda3\\lib\\site-packages (from requests<3.0.0,>=2.13.0->spacy) (2020.6.20)\n",
      "Collecting blis<0.8.0,>=0.7.8 (from thinc<8.2.0,>=8.1.8->spacy)\n",
      "  Obtaining dependency information for blis<0.8.0,>=0.7.8 from https://files.pythonhosted.org/packages/2f/09/da0592c74560cc33396504698122f7a56747c82a5e072ca7d2c3397898e1/blis-0.7.11-cp311-cp311-win_amd64.whl.metadata\n",
      "  Downloading blis-0.7.11-cp311-cp311-win_amd64.whl.metadata (7.6 kB)\n",
      "Collecting confection<1.0.0,>=0.0.1 (from thinc<8.2.0,>=8.1.8->spacy)\n",
      "  Obtaining dependency information for confection<1.0.0,>=0.0.1 from https://files.pythonhosted.org/packages/93/f8/e89268a1f885048fb2ee6b5c9f93c4e90de768534acfef3652f87d97d4cb/confection-0.1.3-py3-none-any.whl.metadata\n",
      "  Downloading confection-0.1.3-py3-none-any.whl.metadata (19 kB)\n",
      "Requirement already satisfied: colorama in c:\\users\\bhudi\\anaconda3\\lib\\site-packages (from tqdm<5.0.0,>=4.38.0->spacy) (0.4.6)\n",
      "Requirement already satisfied: click<9.0.0,>=7.1.1 in c:\\users\\bhudi\\anaconda3\\lib\\site-packages (from typer<0.10.0,>=0.3.0->spacy) (8.0.4)\n",
      "Requirement already satisfied: MarkupSafe>=2.0 in c:\\users\\bhudi\\anaconda3\\lib\\site-packages (from jinja2->spacy) (2.1.1)\n",
      "Downloading spacy-3.6.1-cp311-cp311-win_amd64.whl (12.0 MB)\n",
      "   ---------------------------------------- 0.0/12.0 MB ? eta -:--:--\n",
      "   --- ------------------------------------ 1.0/12.0 MB 21.8 MB/s eta 0:00:01\n",
      "   ------ --------------------------------- 1.8/12.0 MB 19.3 MB/s eta 0:00:01\n",
      "   -------- ------------------------------- 2.5/12.0 MB 17.4 MB/s eta 0:00:01\n",
      "   -------- ------------------------------- 2.5/12.0 MB 17.4 MB/s eta 0:00:01\n",
      "   -------- ------------------------------- 2.5/12.0 MB 17.4 MB/s eta 0:00:01\n",
      "   -------- ------------------------------- 2.5/12.0 MB 17.4 MB/s eta 0:00:01\n",
      "   -------- ------------------------------- 2.5/12.0 MB 17.4 MB/s eta 0:00:01\n",
      "   -------- ------------------------------- 2.5/12.0 MB 17.4 MB/s eta 0:00:01\n",
      "   -------- ------------------------------- 2.5/12.0 MB 17.4 MB/s eta 0:00:01\n",
      "   -------- ------------------------------- 2.5/12.0 MB 17.4 MB/s eta 0:00:01\n",
      "   -------- ------------------------------- 2.5/12.0 MB 17.4 MB/s eta 0:00:01\n",
      "   -------- ------------------------------- 2.5/12.0 MB 17.4 MB/s eta 0:00:01\n",
      "   -------- ------------------------------- 2.5/12.0 MB 17.4 MB/s eta 0:00:01\n",
      "   -------- ------------------------------- 2.5/12.0 MB 17.4 MB/s eta 0:00:01\n",
      "   -------- ------------------------------- 2.5/12.0 MB 17.4 MB/s eta 0:00:01\n",
      "   -------- ------------------------------- 2.5/12.0 MB 17.4 MB/s eta 0:00:01\n",
      "   -------- ------------------------------- 2.5/12.0 MB 17.4 MB/s eta 0:00:01\n",
      "   -------- ------------------------------- 2.5/12.0 MB 17.4 MB/s eta 0:00:01\n",
      "   -------- ------------------------------- 2.5/12.0 MB 17.4 MB/s eta 0:00:01\n",
      "   -------- ------------------------------- 2.5/12.0 MB 2.7 MB/s eta 0:00:04\n",
      "   -------- ------------------------------- 2.5/12.0 MB 2.6 MB/s eta 0:00:04\n",
      "   -------- ------------------------------- 2.5/12.0 MB 2.5 MB/s eta 0:00:04\n",
      "   -------- ------------------------------- 2.6/12.0 MB 2.4 MB/s eta 0:00:04\n",
      "   -------- ------------------------------- 2.7/12.0 MB 2.4 MB/s eta 0:00:04\n",
      "   ---------- ----------------------------- 3.0/12.0 MB 2.6 MB/s eta 0:00:04\n",
      "   ------------- -------------------------- 3.9/12.0 MB 3.2 MB/s eta 0:00:03\n",
      "   --------------- ------------------------ 4.8/12.0 MB 3.8 MB/s eta 0:00:02\n",
      "   ---------------- ----------------------- 5.0/12.0 MB 3.9 MB/s eta 0:00:02\n",
      "   ---------------- ----------------------- 5.0/12.0 MB 3.9 MB/s eta 0:00:02\n",
      "   ---------------- ----------------------- 5.0/12.0 MB 3.9 MB/s eta 0:00:02\n",
      "   ---------------- ----------------------- 5.0/12.0 MB 3.9 MB/s eta 0:00:02\n",
      "   ---------------- ----------------------- 5.0/12.0 MB 3.9 MB/s eta 0:00:02\n",
      "   ---------------- ----------------------- 5.0/12.0 MB 3.9 MB/s eta 0:00:02\n",
      "   ---------------- ----------------------- 5.0/12.0 MB 3.9 MB/s eta 0:00:02\n",
      "   ---------------- ----------------------- 5.0/12.0 MB 3.9 MB/s eta 0:00:02\n",
      "   ---------------- ----------------------- 5.0/12.0 MB 3.9 MB/s eta 0:00:02\n",
      "   ---------------- ----------------------- 5.0/12.0 MB 3.9 MB/s eta 0:00:02\n",
      "   ---------------- ----------------------- 5.0/12.0 MB 3.9 MB/s eta 0:00:02\n",
      "   ---------------- ----------------------- 5.0/12.0 MB 3.9 MB/s eta 0:00:02\n",
      "   ---------------- ----------------------- 5.0/12.0 MB 3.9 MB/s eta 0:00:02\n",
      "   ---------------- ----------------------- 5.0/12.0 MB 3.9 MB/s eta 0:00:02\n",
      "   ---------------- ----------------------- 5.0/12.0 MB 3.9 MB/s eta 0:00:02\n",
      "   ---------------- ----------------------- 5.0/12.0 MB 3.9 MB/s eta 0:00:02\n",
      "   ---------------- ----------------------- 5.0/12.0 MB 2.4 MB/s eta 0:00:03\n",
      "   ---------------- ----------------------- 5.1/12.0 MB 2.4 MB/s eta 0:00:03\n",
      "   ----------------- ---------------------- 5.1/12.0 MB 2.4 MB/s eta 0:00:03\n",
      "   ----------------- ---------------------- 5.2/12.0 MB 2.4 MB/s eta 0:00:03\n",
      "   ----------------- ---------------------- 5.3/12.0 MB 2.3 MB/s eta 0:00:03\n",
      "   ------------------ --------------------- 5.6/12.0 MB 2.4 MB/s eta 0:00:03\n",
      "   --------------------- ------------------ 6.4/12.0 MB 2.7 MB/s eta 0:00:03\n",
      "   ------------------------ --------------- 7.3/12.0 MB 3.0 MB/s eta 0:00:02\n",
      "   ------------------------- -------------- 7.6/12.0 MB 3.2 MB/s eta 0:00:02\n",
      "   ------------------------- -------------- 7.6/12.0 MB 3.2 MB/s eta 0:00:02\n",
      "   ------------------------- -------------- 7.6/12.0 MB 3.2 MB/s eta 0:00:02\n",
      "   ------------------------- -------------- 7.6/12.0 MB 3.2 MB/s eta 0:00:02\n",
      "   ------------------------- -------------- 7.6/12.0 MB 3.2 MB/s eta 0:00:02\n",
      "   ------------------------- -------------- 7.6/12.0 MB 3.2 MB/s eta 0:00:02\n",
      "   ------------------------- -------------- 7.6/12.0 MB 3.2 MB/s eta 0:00:02\n",
      "   ------------------------- -------------- 7.6/12.0 MB 3.2 MB/s eta 0:00:02\n",
      "   ------------------------- -------------- 7.6/12.0 MB 3.2 MB/s eta 0:00:02\n",
      "   ------------------------- -------------- 7.6/12.0 MB 3.2 MB/s eta 0:00:02\n",
      "   ------------------------- -------------- 7.6/12.0 MB 3.2 MB/s eta 0:00:02\n",
      "   ------------------------- -------------- 7.6/12.0 MB 3.2 MB/s eta 0:00:02\n",
      "   ------------------------- -------------- 7.6/12.0 MB 3.2 MB/s eta 0:00:02\n",
      "   ------------------------- -------------- 7.6/12.0 MB 3.2 MB/s eta 0:00:02\n",
      "   ------------------------- -------------- 7.6/12.0 MB 3.2 MB/s eta 0:00:02\n",
      "   ------------------------- -------------- 7.6/12.0 MB 3.2 MB/s eta 0:00:02\n",
      "   ------------------------- -------------- 7.6/12.0 MB 3.2 MB/s eta 0:00:02\n",
      "   ------------------------- -------------- 7.6/12.0 MB 2.4 MB/s eta 0:00:02\n",
      "   ------------------------- -------------- 7.6/12.0 MB 2.3 MB/s eta 0:00:02\n",
      "   ------------------------- -------------- 7.7/12.0 MB 2.3 MB/s eta 0:00:02\n",
      "   ------------------------- -------------- 7.8/12.0 MB 2.3 MB/s eta 0:00:02\n",
      "   -------------------------- ------------- 7.9/12.0 MB 2.3 MB/s eta 0:00:02\n",
      "   --------------------------- ------------ 8.4/12.0 MB 2.4 MB/s eta 0:00:02\n",
      "   ----------------------------- ---------- 8.9/12.0 MB 2.5 MB/s eta 0:00:02\n",
      "   ------------------------------- -------- 9.5/12.0 MB 2.7 MB/s eta 0:00:01\n",
      "   --------------------------------- ------ 10.1/12.0 MB 2.8 MB/s eta 0:00:01\n",
      "   --------------------------------- ------ 10.2/12.0 MB 2.8 MB/s eta 0:00:01\n",
      "   --------------------------------- ------ 10.2/12.0 MB 2.8 MB/s eta 0:00:01\n",
      "   --------------------------------- ------ 10.2/12.0 MB 2.8 MB/s eta 0:00:01\n",
      "   --------------------------------- ------ 10.2/12.0 MB 2.8 MB/s eta 0:00:01\n",
      "   --------------------------------- ------ 10.2/12.0 MB 2.8 MB/s eta 0:00:01\n",
      "   --------------------------------- ------ 10.2/12.0 MB 2.8 MB/s eta 0:00:01\n",
      "   --------------------------------- ------ 10.2/12.0 MB 2.8 MB/s eta 0:00:01\n",
      "   --------------------------------- ------ 10.2/12.0 MB 2.8 MB/s eta 0:00:01\n",
      "   --------------------------------- ------ 10.2/12.0 MB 2.8 MB/s eta 0:00:01\n",
      "   --------------------------------- ------ 10.2/12.0 MB 2.8 MB/s eta 0:00:01\n",
      "   --------------------------------- ------ 10.2/12.0 MB 2.8 MB/s eta 0:00:01\n",
      "   --------------------------------- ------ 10.2/12.0 MB 2.8 MB/s eta 0:00:01\n",
      "   --------------------------------- ------ 10.2/12.0 MB 2.8 MB/s eta 0:00:01\n",
      "   --------------------------------- ------ 10.2/12.0 MB 2.8 MB/s eta 0:00:01\n",
      "   --------------------------------- ------ 10.2/12.0 MB 2.8 MB/s eta 0:00:01\n",
      "   --------------------------------- ------ 10.2/12.0 MB 2.8 MB/s eta 0:00:01\n",
      "   --------------------------------- ------ 10.2/12.0 MB 2.3 MB/s eta 0:00:01\n",
      "   ---------------------------------- ----- 10.2/12.0 MB 2.3 MB/s eta 0:00:01\n",
      "   ---------------------------------- ----- 10.3/12.0 MB 2.3 MB/s eta 0:00:01\n",
      "   ---------------------------------- ----- 10.4/12.0 MB 2.2 MB/s eta 0:00:01\n",
      "   ----------------------------------- ---- 10.7/12.0 MB 2.2 MB/s eta 0:00:01\n",
      "   ------------------------------------- -- 11.1/12.0 MB 2.2 MB/s eta 0:00:01\n",
      "   -------------------------------------- - 11.5/12.0 MB 2.2 MB/s eta 0:00:01\n",
      "   ---------------------------------------  12.0/12.0 MB 2.2 MB/s eta 0:00:01\n",
      "   ---------------------------------------- 12.0/12.0 MB 2.2 MB/s eta 0:00:00\n",
      "Downloading catalogue-2.0.10-py3-none-any.whl (17 kB)\n",
      "Downloading cymem-2.0.8-cp311-cp311-win_amd64.whl (39 kB)\n",
      "Downloading murmurhash-1.0.10-cp311-cp311-win_amd64.whl (25 kB)\n",
      "Downloading pathy-0.10.2-py3-none-any.whl (48 kB)\n",
      "   ---------------------------------------- 0.0/48.9 kB ? eta -:--:--\n",
      "   ---------------------------------------- 48.9/48.9 kB ? eta 0:00:00\n",
      "Downloading preshed-3.0.9-cp311-cp311-win_amd64.whl (122 kB)\n",
      "   ---------------------------------------- 0.0/122.3 kB ? eta -:--:--\n",
      "   ---------------------------------------- 122.3/122.3 kB 7.5 MB/s eta 0:00:00\n",
      "Downloading pydantic-2.4.2-py3-none-any.whl (395 kB)\n",
      "   ---------------------------------------- 0.0/395.8 kB ? eta -:--:--\n",
      "   ------------------------------------ -- 368.6/395.8 kB 11.6 MB/s eta 0:00:01\n",
      "   --------------------------------------- 395.8/395.8 kB 12.4 MB/s eta 0:00:00\n",
      "Downloading pydantic_core-2.10.1-cp311-none-win_amd64.whl (2.0 MB)\n",
      "   ---------------------------------------- 0.0/2.0 MB ? eta -:--:--\n",
      "    --------------------------------------- 0.0/2.0 MB ? eta -:--:--\n",
      "    --------------------------------------- 0.0/2.0 MB ? eta -:--:--\n",
      "    --------------------------------------- 0.0/2.0 MB ? eta -:--:--\n",
      "    --------------------------------------- 0.0/2.0 MB ? eta -:--:--\n",
      "    --------------------------------------- 0.0/2.0 MB ? eta -:--:--\n",
      "    --------------------------------------- 0.0/2.0 MB ? eta -:--:--\n",
      "    --------------------------------------- 0.0/2.0 MB ? eta -:--:--\n",
      "    --------------------------------------- 0.0/2.0 MB ? eta -:--:--\n",
      "    --------------------------------------- 0.0/2.0 MB ? eta -:--:--\n",
      "    --------------------------------------- 0.0/2.0 MB ? eta -:--:--\n",
      "    --------------------------------------- 0.0/2.0 MB ? eta -:--:--\n",
      "    --------------------------------------- 0.0/2.0 MB ? eta -:--:--\n",
      "    --------------------------------------- 0.0/2.0 MB ? eta -:--:--\n",
      "    --------------------------------------- 0.0/2.0 MB ? eta -:--:--\n",
      "    --------------------------------------- 0.0/2.0 MB ? eta -:--:--\n",
      "    --------------------------------------- 0.0/2.0 MB ? eta -:--:--\n",
      "   - -------------------------------------- 0.1/2.0 MB 66.8 kB/s eta 0:00:29\n",
      "   - -------------------------------------- 0.1/2.0 MB 98.9 kB/s eta 0:00:20\n",
      "   -- ------------------------------------- 0.1/2.0 MB 131.1 kB/s eta 0:00:15\n",
      "   ---- ----------------------------------- 0.2/2.0 MB 211.0 kB/s eta 0:00:09\n",
      "   ---------- ----------------------------- 0.5/2.0 MB 507.2 kB/s eta 0:00:03\n",
      "   ---------------- ----------------------- 0.8/2.0 MB 786.1 kB/s eta 0:00:02\n",
      "   ----------------------- ---------------- 1.1/2.0 MB 1.1 MB/s eta 0:00:01\n",
      "   ----------------------------- ---------- 1.5/2.0 MB 1.3 MB/s eta 0:00:01\n",
      "   ------------------------------------ --- 1.8/2.0 MB 1.6 MB/s eta 0:00:01\n",
      "   ---------------------------------------- 2.0/2.0 MB 1.7 MB/s eta 0:00:00\n",
      "Downloading spacy_loggers-1.0.5-py3-none-any.whl (22 kB)\n",
      "Downloading srsly-2.4.8-cp311-cp311-win_amd64.whl (479 kB)\n",
      "   ---------------------------------------- 0.0/479.7 kB ? eta -:--:--\n",
      "   ----------------------- ---------------- 286.7/479.7 kB 8.6 MB/s eta 0:00:01\n",
      "   ---------------------------------------- 479.7/479.7 kB 7.5 MB/s eta 0:00:00\n",
      "Downloading thinc-8.1.12-cp311-cp311-win_amd64.whl (1.5 MB)\n",
      "   ---------------------------------------- 0.0/1.5 MB ? eta -:--:--\n",
      "   --- ------------------------------------ 0.1/1.5 MB 6.8 MB/s eta 0:00:01\n",
      "   --- ------------------------------------ 0.1/1.5 MB 6.8 MB/s eta 0:00:01\n",
      "   --- ------------------------------------ 0.1/1.5 MB 6.8 MB/s eta 0:00:01\n",
      "   --- ------------------------------------ 0.1/1.5 MB 6.8 MB/s eta 0:00:01\n",
      "   --- ------------------------------------ 0.1/1.5 MB 6.8 MB/s eta 0:00:01\n",
      "   --- ------------------------------------ 0.1/1.5 MB 6.8 MB/s eta 0:00:01\n",
      "   --- ------------------------------------ 0.1/1.5 MB 343.4 kB/s eta 0:00:04\n",
      "   --- ------------------------------------ 0.1/1.5 MB 370.8 kB/s eta 0:00:04\n",
      "   ----- ---------------------------------- 0.2/1.5 MB 454.0 kB/s eta 0:00:03\n",
      "   -------- ------------------------------- 0.3/1.5 MB 634.5 kB/s eta 0:00:02\n",
      "   --------------- ------------------------ 0.6/1.5 MB 1.1 MB/s eta 0:00:01\n",
      "   ---------------------- ----------------- 0.8/1.5 MB 1.4 MB/s eta 0:00:01\n",
      "   ----------------------------- ---------- 1.1/1.5 MB 1.7 MB/s eta 0:00:01\n",
      "   ------------------------------------ --- 1.4/1.5 MB 2.0 MB/s eta 0:00:01\n",
      "   ---------------------------------------- 1.5/1.5 MB 2.2 MB/s eta 0:00:00\n",
      "Downloading wasabi-1.1.2-py3-none-any.whl (27 kB)\n",
      "Downloading annotated_types-0.5.0-py3-none-any.whl (11 kB)\n",
      "Downloading blis-0.7.11-cp311-cp311-win_amd64.whl (6.6 MB)\n",
      "   ---------------------------------------- 0.0/6.6 MB ? eta -:--:--\n",
      "   - -------------------------------------- 0.3/6.6 MB 6.2 MB/s eta 0:00:02\n",
      "   --- ------------------------------------ 0.6/6.6 MB 6.2 MB/s eta 0:00:01\n",
      "   ----- ---------------------------------- 0.9/6.6 MB 6.2 MB/s eta 0:00:01\n",
      "   ------ --------------------------------- 1.1/6.6 MB 6.4 MB/s eta 0:00:01\n",
      "   ------ --------------------------------- 1.1/6.6 MB 6.4 MB/s eta 0:00:01\n",
      "   ------ --------------------------------- 1.1/6.6 MB 6.4 MB/s eta 0:00:01\n",
      "   ------ --------------------------------- 1.1/6.6 MB 6.4 MB/s eta 0:00:01\n",
      "   ------ --------------------------------- 1.1/6.6 MB 6.4 MB/s eta 0:00:01\n",
      "   ------ --------------------------------- 1.1/6.6 MB 6.4 MB/s eta 0:00:01\n",
      "   ------ --------------------------------- 1.1/6.6 MB 6.4 MB/s eta 0:00:01\n",
      "   ------ --------------------------------- 1.1/6.6 MB 6.4 MB/s eta 0:00:01\n",
      "   ------ --------------------------------- 1.1/6.6 MB 6.4 MB/s eta 0:00:01\n",
      "   ------ --------------------------------- 1.1/6.6 MB 6.4 MB/s eta 0:00:01\n",
      "   ------ --------------------------------- 1.1/6.6 MB 6.4 MB/s eta 0:00:01\n",
      "   ------ --------------------------------- 1.1/6.6 MB 6.4 MB/s eta 0:00:01\n",
      "   ------ --------------------------------- 1.1/6.6 MB 6.4 MB/s eta 0:00:01\n",
      "   ------ --------------------------------- 1.1/6.6 MB 6.4 MB/s eta 0:00:01\n",
      "   ------ --------------------------------- 1.1/6.6 MB 6.4 MB/s eta 0:00:01\n",
      "   ------ --------------------------------- 1.1/6.6 MB 6.4 MB/s eta 0:00:01\n",
      "   ------ --------------------------------- 1.1/6.6 MB 6.4 MB/s eta 0:00:01\n",
      "   ------ --------------------------------- 1.1/6.6 MB 1.2 MB/s eta 0:00:05\n",
      "   ------- -------------------------------- 1.2/6.6 MB 1.2 MB/s eta 0:00:05\n",
      "   ------- -------------------------------- 1.3/6.6 MB 1.2 MB/s eta 0:00:05\n",
      "   --------- ------------------------------ 1.5/6.6 MB 1.4 MB/s eta 0:00:04\n",
      "   ---------- ----------------------------- 1.8/6.6 MB 1.5 MB/s eta 0:00:04\n",
      "   ----------- ---------------------------- 2.0/6.6 MB 1.6 MB/s eta 0:00:03\n",
      "   ------------- -------------------------- 2.2/6.6 MB 1.8 MB/s eta 0:00:03\n",
      "   -------------- ------------------------- 2.4/6.6 MB 1.9 MB/s eta 0:00:03\n",
      "   ---------------- ----------------------- 2.7/6.6 MB 2.0 MB/s eta 0:00:02\n",
      "   ----------------- ---------------------- 3.0/6.6 MB 2.1 MB/s eta 0:00:02\n",
      "   ------------------- -------------------- 3.2/6.6 MB 2.2 MB/s eta 0:00:02\n",
      "   --------------------- ------------------ 3.5/6.6 MB 2.3 MB/s eta 0:00:02\n",
      "   ---------------------- ----------------- 3.6/6.6 MB 2.4 MB/s eta 0:00:02\n",
      "   ---------------------- ----------------- 3.6/6.6 MB 2.4 MB/s eta 0:00:02\n",
      "   ---------------------- ----------------- 3.6/6.6 MB 2.4 MB/s eta 0:00:02\n",
      "   ---------------------- ----------------- 3.6/6.6 MB 2.4 MB/s eta 0:00:02\n",
      "   ---------------------- ----------------- 3.6/6.6 MB 2.4 MB/s eta 0:00:02\n",
      "   ---------------------- ----------------- 3.6/6.6 MB 2.4 MB/s eta 0:00:02\n",
      "   ---------------------- ----------------- 3.6/6.6 MB 2.4 MB/s eta 0:00:02\n",
      "   ---------------------- ----------------- 3.7/6.6 MB 2.0 MB/s eta 0:00:02\n",
      "   ---------------------- ----------------- 3.7/6.6 MB 1.9 MB/s eta 0:00:02\n",
      "   ---------------------- ----------------- 3.7/6.6 MB 1.9 MB/s eta 0:00:02\n",
      "   ----------------------- ---------------- 3.9/6.6 MB 1.9 MB/s eta 0:00:02\n",
      "   ------------------------ --------------- 4.1/6.6 MB 2.0 MB/s eta 0:00:02\n",
      "   ------------------------- -------------- 4.3/6.6 MB 2.0 MB/s eta 0:00:02\n",
      "   --------------------------- ------------ 4.5/6.6 MB 2.1 MB/s eta 0:00:01\n",
      "   ---------------------------- ----------- 4.7/6.6 MB 2.1 MB/s eta 0:00:01\n",
      "   ----------------------------- ---------- 4.9/6.6 MB 2.2 MB/s eta 0:00:01\n",
      "   ------------------------------- -------- 5.2/6.6 MB 2.3 MB/s eta 0:00:01\n",
      "   -------------------------------- ------- 5.4/6.6 MB 2.3 MB/s eta 0:00:01\n",
      "   ---------------------------------- ----- 5.6/6.6 MB 2.4 MB/s eta 0:00:01\n",
      "   ----------------------------------- ---- 5.9/6.6 MB 2.4 MB/s eta 0:00:01\n",
      "   ------------------------------------ --- 6.1/6.6 MB 2.5 MB/s eta 0:00:01\n",
      "   ------------------------------------ --- 6.1/6.6 MB 2.5 MB/s eta 0:00:01\n",
      "   ------------------------------------ --- 6.1/6.6 MB 2.5 MB/s eta 0:00:01\n",
      "   ------------------------------------ --- 6.1/6.6 MB 2.5 MB/s eta 0:00:01\n",
      "   ------------------------------------ --- 6.1/6.6 MB 2.5 MB/s eta 0:00:01\n",
      "   ------------------------------------ --- 6.1/6.6 MB 2.5 MB/s eta 0:00:01\n",
      "   ------------------------------------ --- 6.1/6.6 MB 2.5 MB/s eta 0:00:01\n",
      "   ------------------------------------ --- 6.1/6.6 MB 2.5 MB/s eta 0:00:01\n",
      "   ------------------------------------ --- 6.1/6.6 MB 2.5 MB/s eta 0:00:01\n",
      "   ------------------------------------ --- 6.1/6.6 MB 2.5 MB/s eta 0:00:01\n",
      "   ------------------------------------ --- 6.1/6.6 MB 2.5 MB/s eta 0:00:01\n",
      "   ------------------------------------ --- 6.1/6.6 MB 2.5 MB/s eta 0:00:01\n",
      "   ------------------------------------ --- 6.1/6.6 MB 2.5 MB/s eta 0:00:01\n",
      "   ------------------------------------ --- 6.1/6.6 MB 2.5 MB/s eta 0:00:01\n",
      "   ------------------------------------ --- 6.1/6.6 MB 2.5 MB/s eta 0:00:01\n",
      "   ------------------------------------ --- 6.1/6.6 MB 2.5 MB/s eta 0:00:01\n",
      "   ------------------------------------ --- 6.1/6.6 MB 2.5 MB/s eta 0:00:01\n",
      "   ------------------------------------- -- 6.2/6.6 MB 1.9 MB/s eta 0:00:01\n",
      "   -------------------------------------- - 6.3/6.6 MB 1.9 MB/s eta 0:00:01\n",
      "   ---------------------------------------  6.5/6.6 MB 1.9 MB/s eta 0:00:01\n",
      "   ---------------------------------------- 6.6/6.6 MB 1.9 MB/s eta 0:00:00\n",
      "Downloading confection-0.1.3-py3-none-any.whl (34 kB)\n",
      "Installing collected packages: cymem, wasabi, spacy-loggers, spacy-legacy, pydantic-core, murmurhash, langcodes, catalogue, blis, annotated-types, typer, srsly, pydantic, preshed, pathy, confection, thinc, spacy\n",
      "Successfully installed annotated-types-0.5.0 blis-0.7.11 catalogue-2.0.10 confection-0.1.3 cymem-2.0.8 langcodes-3.3.0 murmurhash-1.0.10 pathy-0.10.2 preshed-3.0.9 pydantic-2.4.2 pydantic-core-2.10.1 spacy-3.6.1 spacy-legacy-3.0.12 spacy-loggers-1.0.5 srsly-2.4.8 thinc-8.1.12 typer-0.9.0 wasabi-1.1.2\n"
     ]
    },
    {
     "name": "stdout",
     "output_type": "stream",
     "text": [
      "Collecting en-core-web-sm==3.6.0\n",
      "  Downloading https://github.com/explosion/spacy-models/releases/download/en_core_web_sm-3.6.0/en_core_web_sm-3.6.0-py3-none-any.whl (12.8 MB)\n",
      "     ---------------------------------------- 0.0/12.8 MB ? eta -:--:--\n",
      "     ---------------------------------------- 0.0/12.8 MB 1.3 MB/s eta 0:00:10\n",
      "     ---------------------------------------- 0.1/12.8 MB 1.5 MB/s eta 0:00:09\n",
      "      --------------------------------------- 0.2/12.8 MB 1.7 MB/s eta 0:00:08\n",
      "      --------------------------------------- 0.2/12.8 MB 1.4 MB/s eta 0:00:10\n",
      "      --------------------------------------- 0.2/12.8 MB 1.4 MB/s eta 0:00:10\n",
      "      --------------------------------------- 0.3/12.8 MB 1.1 MB/s eta 0:00:12\n",
      "     - -------------------------------------- 0.4/12.8 MB 1.2 MB/s eta 0:00:10\n",
      "     - -------------------------------------- 0.6/12.8 MB 1.5 MB/s eta 0:00:09\n",
      "     - -------------------------------------- 0.6/12.8 MB 1.7 MB/s eta 0:00:08\n",
      "     - -------------------------------------- 0.6/12.8 MB 1.7 MB/s eta 0:00:08\n",
      "     -- ------------------------------------- 0.7/12.8 MB 1.5 MB/s eta 0:00:09\n",
      "     -- ------------------------------------- 1.0/12.8 MB 1.7 MB/s eta 0:00:07\n",
      "     --- ------------------------------------ 1.2/12.8 MB 2.0 MB/s eta 0:00:06\n",
      "     ---- ----------------------------------- 1.4/12.8 MB 2.2 MB/s eta 0:00:06\n",
      "     ---- ----------------------------------- 1.5/12.8 MB 2.3 MB/s eta 0:00:05\n",
      "     ----- ---------------------------------- 1.6/12.8 MB 2.2 MB/s eta 0:00:06\n",
      "     ----- ---------------------------------- 1.9/12.8 MB 2.4 MB/s eta 0:00:05\n",
      "     ------ --------------------------------- 2.1/12.8 MB 2.5 MB/s eta 0:00:05\n",
      "     ------- -------------------------------- 2.3/12.8 MB 2.7 MB/s eta 0:00:04\n",
      "     -------- ------------------------------- 2.6/12.8 MB 2.8 MB/s eta 0:00:04\n",
      "     -------- ------------------------------- 2.8/12.8 MB 3.0 MB/s eta 0:00:04\n",
      "     --------- ------------------------------ 3.1/12.8 MB 3.1 MB/s eta 0:00:04\n",
      "     ---------- ----------------------------- 3.3/12.8 MB 3.2 MB/s eta 0:00:03\n",
      "     ----------- ---------------------------- 3.6/12.8 MB 3.3 MB/s eta 0:00:03\n",
      "     ------------ --------------------------- 3.9/12.8 MB 3.4 MB/s eta 0:00:03\n",
      "     ------------ --------------------------- 4.1/12.8 MB 3.5 MB/s eta 0:00:03\n",
      "     ------------- -------------------------- 4.4/12.8 MB 3.5 MB/s eta 0:00:03\n",
      "     -------------- ------------------------- 4.6/12.8 MB 3.6 MB/s eta 0:00:03\n",
      "     --------------- ------------------------ 4.8/12.8 MB 3.6 MB/s eta 0:00:03\n",
      "     --------------- ------------------------ 5.0/12.8 MB 3.6 MB/s eta 0:00:03\n",
      "     --------------- ------------------------ 5.0/12.8 MB 3.6 MB/s eta 0:00:03\n",
      "     --------------- ------------------------ 5.0/12.8 MB 3.6 MB/s eta 0:00:03\n",
      "     --------------- ------------------------ 5.0/12.8 MB 3.6 MB/s eta 0:00:03\n",
      "     --------------- ------------------------ 5.0/12.8 MB 3.6 MB/s eta 0:00:03\n",
      "     --------------- ------------------------ 5.0/12.8 MB 3.6 MB/s eta 0:00:03\n",
      "     --------------- ------------------------ 5.0/12.8 MB 3.6 MB/s eta 0:00:03\n",
      "     --------------- ------------------------ 5.0/12.8 MB 3.6 MB/s eta 0:00:03\n",
      "     --------------- ------------------------ 5.0/12.8 MB 3.6 MB/s eta 0:00:03\n",
      "     --------------- ------------------------ 5.0/12.8 MB 3.6 MB/s eta 0:00:03\n",
      "     --------------- ------------------------ 5.0/12.8 MB 3.6 MB/s eta 0:00:03\n",
      "     --------------- ------------------------ 5.0/12.8 MB 3.6 MB/s eta 0:00:03\n",
      "     --------------- ------------------------ 5.0/12.8 MB 3.6 MB/s eta 0:00:03\n",
      "     --------------- ------------------------ 5.0/12.8 MB 3.6 MB/s eta 0:00:03\n",
      "     --------------- ------------------------ 5.0/12.8 MB 3.6 MB/s eta 0:00:03\n",
      "     --------------- ------------------------ 5.0/12.8 MB 3.6 MB/s eta 0:00:03\n",
      "     --------------- ------------------------ 5.0/12.8 MB 3.6 MB/s eta 0:00:03\n",
      "     --------------- ------------------------ 5.0/12.8 MB 3.6 MB/s eta 0:00:03\n",
      "     --------------- ------------------------ 5.0/12.8 MB 3.6 MB/s eta 0:00:03\n",
      "     --------------- ------------------------ 5.0/12.8 MB 3.6 MB/s eta 0:00:03\n",
      "     --------------- ------------------------ 5.0/12.8 MB 3.6 MB/s eta 0:00:03\n",
      "     --------------- ------------------------ 5.0/12.8 MB 3.6 MB/s eta 0:00:03\n",
      "     --------------- ------------------------ 5.0/12.8 MB 3.6 MB/s eta 0:00:03\n",
      "     --------------- ------------------------ 5.0/12.8 MB 3.6 MB/s eta 0:00:03\n",
      "     --------------- ------------------------ 5.0/12.8 MB 2.0 MB/s eta 0:00:04\n",
      "     --------------- ------------------------ 5.0/12.8 MB 2.0 MB/s eta 0:00:04\n",
      "     --------------- ------------------------ 5.1/12.8 MB 2.0 MB/s eta 0:00:04\n",
      "     --------------- ------------------------ 5.1/12.8 MB 1.9 MB/s eta 0:00:04\n",
      "     --------------- ------------------------ 5.1/12.8 MB 1.9 MB/s eta 0:00:05\n",
      "     ---------------- ----------------------- 5.2/12.8 MB 1.9 MB/s eta 0:00:05\n",
      "     ---------------- ----------------------- 5.2/12.8 MB 1.9 MB/s eta 0:00:05\n",
      "     ---------------- ----------------------- 5.3/12.8 MB 1.9 MB/s eta 0:00:05\n",
      "     ---------------- ----------------------- 5.3/12.8 MB 1.8 MB/s eta 0:00:05\n",
      "     ----------------- ---------------------- 5.6/12.8 MB 1.9 MB/s eta 0:00:04\n",
      "     ------------------ --------------------- 5.8/12.8 MB 2.0 MB/s eta 0:00:04\n",
      "     ------------------- -------------------- 6.1/12.8 MB 2.0 MB/s eta 0:00:04\n",
      "     ------------------- -------------------- 6.3/12.8 MB 2.1 MB/s eta 0:00:04\n",
      "     -------------------- ------------------- 6.6/12.8 MB 2.1 MB/s eta 0:00:03\n",
      "     --------------------- ------------------ 6.9/12.8 MB 2.2 MB/s eta 0:00:03\n",
      "     ---------------------- ----------------- 7.1/12.8 MB 2.2 MB/s eta 0:00:03\n",
      "     ----------------------- ---------------- 7.4/12.8 MB 2.3 MB/s eta 0:00:03\n",
      "     ----------------------- ---------------- 7.6/12.8 MB 2.3 MB/s eta 0:00:03\n",
      "     ------------------------ --------------- 7.9/12.8 MB 2.3 MB/s eta 0:00:03\n",
      "     ------------------------- -------------- 8.1/12.8 MB 2.4 MB/s eta 0:00:02\n",
      "     -------------------------- ------------- 8.3/12.8 MB 2.4 MB/s eta 0:00:02\n",
      "     -------------------------- ------------- 8.6/12.8 MB 2.5 MB/s eta 0:00:02\n",
      "     --------------------------- ------------ 8.8/12.8 MB 2.5 MB/s eta 0:00:02\n",
      "     ---------------------------- ----------- 9.1/12.8 MB 2.5 MB/s eta 0:00:02\n",
      "     ----------------------------- ---------- 9.3/12.8 MB 2.6 MB/s eta 0:00:02\n",
      "     ----------------------------- ---------- 9.5/12.8 MB 2.6 MB/s eta 0:00:02\n",
      "     ------------------------------ --------- 9.8/12.8 MB 2.6 MB/s eta 0:00:02\n",
      "     ------------------------------ --------- 9.8/12.8 MB 2.6 MB/s eta 0:00:02\n",
      "     ------------------------------ --------- 9.8/12.8 MB 2.6 MB/s eta 0:00:02\n",
      "     ------------------------------ --------- 9.8/12.8 MB 2.6 MB/s eta 0:00:02\n",
      "     ------------------------------ --------- 9.8/12.8 MB 2.6 MB/s eta 0:00:02\n",
      "     ------------------------------ --------- 9.8/12.8 MB 2.6 MB/s eta 0:00:02\n",
      "     ------------------------------ --------- 9.8/12.8 MB 2.6 MB/s eta 0:00:02\n",
      "     ------------------------------ --------- 9.8/12.8 MB 2.6 MB/s eta 0:00:02\n",
      "     ------------------------------ --------- 9.8/12.8 MB 2.6 MB/s eta 0:00:02\n",
      "     ------------------------------ --------- 9.8/12.8 MB 2.6 MB/s eta 0:00:02\n",
      "     ------------------------------ --------- 9.8/12.8 MB 2.6 MB/s eta 0:00:02\n",
      "     ------------------------------ --------- 9.8/12.8 MB 2.6 MB/s eta 0:00:02\n",
      "     ------------------------------ --------- 9.8/12.8 MB 2.6 MB/s eta 0:00:02\n",
      "     ------------------------------ --------- 9.8/12.8 MB 2.6 MB/s eta 0:00:02\n",
      "     ------------------------------ --------- 9.8/12.8 MB 2.6 MB/s eta 0:00:02\n",
      "     ------------------------------ --------- 9.8/12.8 MB 2.6 MB/s eta 0:00:02\n",
      "     ------------------------------ --------- 9.8/12.8 MB 2.6 MB/s eta 0:00:02\n",
      "     ------------------------------ --------- 9.8/12.8 MB 2.6 MB/s eta 0:00:02\n",
      "     ------------------------------ --------- 9.8/12.8 MB 2.6 MB/s eta 0:00:02\n",
      "     ------------------------------ --------- 9.8/12.8 MB 2.6 MB/s eta 0:00:02\n",
      "     ------------------------------ --------- 9.8/12.8 MB 2.6 MB/s eta 0:00:02\n",
      "     ------------------------------ --------- 9.8/12.8 MB 2.6 MB/s eta 0:00:02\n",
      "     ------------------------------ --------- 9.9/12.8 MB 2.1 MB/s eta 0:00:02\n",
      "     ------------------------------ --------- 9.9/12.8 MB 2.1 MB/s eta 0:00:02\n",
      "     ------------------------------ --------- 9.9/12.8 MB 2.0 MB/s eta 0:00:02\n",
      "     ------------------------------ --------- 9.9/12.8 MB 2.0 MB/s eta 0:00:02\n",
      "     ------------------------------ --------- 9.9/12.8 MB 2.0 MB/s eta 0:00:02\n",
      "     ------------------------------- -------- 9.9/12.8 MB 2.0 MB/s eta 0:00:02\n",
      "     ------------------------------- -------- 10.0/12.8 MB 2.0 MB/s eta 0:00:02\n",
      "     ------------------------------- -------- 10.0/12.8 MB 2.0 MB/s eta 0:00:02\n",
      "     ------------------------------- -------- 10.0/12.8 MB 2.0 MB/s eta 0:00:02\n",
      "     ------------------------------- -------- 10.1/12.8 MB 1.9 MB/s eta 0:00:02\n",
      "     ------------------------------- -------- 10.1/12.8 MB 1.9 MB/s eta 0:00:02\n",
      "     -------------------------------- ------- 10.4/12.8 MB 2.0 MB/s eta 0:00:02\n",
      "     --------------------------------- ------ 10.6/12.8 MB 2.0 MB/s eta 0:00:02\n",
      "     --------------------------------- ------ 10.9/12.8 MB 2.1 MB/s eta 0:00:01\n",
      "     ---------------------------------- ----- 11.1/12.8 MB 2.1 MB/s eta 0:00:01\n",
      "     ----------------------------------- ---- 11.3/12.8 MB 2.1 MB/s eta 0:00:01\n",
      "     ------------------------------------ --- 11.6/12.8 MB 2.1 MB/s eta 0:00:01\n",
      "     ------------------------------------ --- 11.8/12.8 MB 2.1 MB/s eta 0:00:01\n",
      "     ------------------------------------- -- 12.1/12.8 MB 2.1 MB/s eta 0:00:01\n",
      "     -------------------------------------- - 12.3/12.8 MB 2.1 MB/s eta 0:00:01\n",
      "     ---------------------------------------  12.6/12.8 MB 2.1 MB/s eta 0:00:01\n",
      "     ---------------------------------------  12.8/12.8 MB 2.1 MB/s eta 0:00:01\n",
      "     ---------------------------------------- 12.8/12.8 MB 2.1 MB/s eta 0:00:00\n",
      "Requirement already satisfied: spacy<3.7.0,>=3.6.0 in c:\\users\\bhudi\\anaconda3\\lib\\site-packages (from en-core-web-sm==3.6.0) (3.6.1)\n",
      "Requirement already satisfied: spacy-legacy<3.1.0,>=3.0.11 in c:\\users\\bhudi\\anaconda3\\lib\\site-packages (from spacy<3.7.0,>=3.6.0->en-core-web-sm==3.6.0) (3.0.12)\n",
      "Requirement already satisfied: spacy-loggers<2.0.0,>=1.0.0 in c:\\users\\bhudi\\anaconda3\\lib\\site-packages (from spacy<3.7.0,>=3.6.0->en-core-web-sm==3.6.0) (1.0.5)\n",
      "Requirement already satisfied: murmurhash<1.1.0,>=0.28.0 in c:\\users\\bhudi\\anaconda3\\lib\\site-packages (from spacy<3.7.0,>=3.6.0->en-core-web-sm==3.6.0) (1.0.10)\n",
      "Requirement already satisfied: cymem<2.1.0,>=2.0.2 in c:\\users\\bhudi\\anaconda3\\lib\\site-packages (from spacy<3.7.0,>=3.6.0->en-core-web-sm==3.6.0) (2.0.8)\n",
      "Requirement already satisfied: preshed<3.1.0,>=3.0.2 in c:\\users\\bhudi\\anaconda3\\lib\\site-packages (from spacy<3.7.0,>=3.6.0->en-core-web-sm==3.6.0) (3.0.9)\n",
      "Requirement already satisfied: thinc<8.2.0,>=8.1.8 in c:\\users\\bhudi\\anaconda3\\lib\\site-packages (from spacy<3.7.0,>=3.6.0->en-core-web-sm==3.6.0) (8.1.12)\n",
      "Requirement already satisfied: wasabi<1.2.0,>=0.9.1 in c:\\users\\bhudi\\anaconda3\\lib\\site-packages (from spacy<3.7.0,>=3.6.0->en-core-web-sm==3.6.0) (1.1.2)\n",
      "Requirement already satisfied: srsly<3.0.0,>=2.4.3 in c:\\users\\bhudi\\anaconda3\\lib\\site-packages (from spacy<3.7.0,>=3.6.0->en-core-web-sm==3.6.0) (2.4.8)\n",
      "Requirement already satisfied: catalogue<2.1.0,>=2.0.6 in c:\\users\\bhudi\\anaconda3\\lib\\site-packages (from spacy<3.7.0,>=3.6.0->en-core-web-sm==3.6.0) (2.0.10)\n",
      "Requirement already satisfied: typer<0.10.0,>=0.3.0 in c:\\users\\bhudi\\anaconda3\\lib\\site-packages (from spacy<3.7.0,>=3.6.0->en-core-web-sm==3.6.0) (0.9.0)\n",
      "Requirement already satisfied: pathy>=0.10.0 in c:\\users\\bhudi\\anaconda3\\lib\\site-packages (from spacy<3.7.0,>=3.6.0->en-core-web-sm==3.6.0) (0.10.2)\n",
      "Requirement already satisfied: smart-open<7.0.0,>=5.2.1 in c:\\users\\bhudi\\anaconda3\\lib\\site-packages (from spacy<3.7.0,>=3.6.0->en-core-web-sm==3.6.0) (5.2.1)\n",
      "Requirement already satisfied: tqdm<5.0.0,>=4.38.0 in c:\\users\\bhudi\\anaconda3\\lib\\site-packages (from spacy<3.7.0,>=3.6.0->en-core-web-sm==3.6.0) (4.65.0)\n",
      "Requirement already satisfied: numpy>=1.15.0 in c:\\users\\bhudi\\anaconda3\\lib\\site-packages (from spacy<3.7.0,>=3.6.0->en-core-web-sm==3.6.0) (1.24.3)\n",
      "Requirement already satisfied: requests<3.0.0,>=2.13.0 in c:\\users\\bhudi\\anaconda3\\lib\\site-packages (from spacy<3.7.0,>=3.6.0->en-core-web-sm==3.6.0) (2.31.0)\n",
      "Requirement already satisfied: pydantic!=1.8,!=1.8.1,<3.0.0,>=1.7.4 in c:\\users\\bhudi\\anaconda3\\lib\\site-packages (from spacy<3.7.0,>=3.6.0->en-core-web-sm==3.6.0) (2.4.2)\n",
      "Requirement already satisfied: jinja2 in c:\\users\\bhudi\\anaconda3\\lib\\site-packages (from spacy<3.7.0,>=3.6.0->en-core-web-sm==3.6.0) (3.1.2)\n",
      "Requirement already satisfied: setuptools in c:\\users\\bhudi\\anaconda3\\lib\\site-packages (from spacy<3.7.0,>=3.6.0->en-core-web-sm==3.6.0) (68.1.2)\n",
      "Requirement already satisfied: packaging>=20.0 in c:\\users\\bhudi\\anaconda3\\lib\\site-packages (from spacy<3.7.0,>=3.6.0->en-core-web-sm==3.6.0) (23.0)\n",
      "Requirement already satisfied: langcodes<4.0.0,>=3.2.0 in c:\\users\\bhudi\\anaconda3\\lib\\site-packages (from spacy<3.7.0,>=3.6.0->en-core-web-sm==3.6.0) (3.3.0)\n",
      "Requirement already satisfied: annotated-types>=0.4.0 in c:\\users\\bhudi\\anaconda3\\lib\\site-packages (from pydantic!=1.8,!=1.8.1,<3.0.0,>=1.7.4->spacy<3.7.0,>=3.6.0->en-core-web-sm==3.6.0) (0.5.0)\n",
      "Requirement already satisfied: pydantic-core==2.10.1 in c:\\users\\bhudi\\anaconda3\\lib\\site-packages (from pydantic!=1.8,!=1.8.1,<3.0.0,>=1.7.4->spacy<3.7.0,>=3.6.0->en-core-web-sm==3.6.0) (2.10.1)\n",
      "Requirement already satisfied: typing-extensions>=4.6.1 in c:\\users\\bhudi\\anaconda3\\lib\\site-packages (from pydantic!=1.8,!=1.8.1,<3.0.0,>=1.7.4->spacy<3.7.0,>=3.6.0->en-core-web-sm==3.6.0) (4.7.1)\n",
      "Requirement already satisfied: charset-normalizer<4,>=2 in c:\\users\\bhudi\\anaconda3\\lib\\site-packages (from requests<3.0.0,>=2.13.0->spacy<3.7.0,>=3.6.0->en-core-web-sm==3.6.0) (2.0.4)\n",
      "Requirement already satisfied: idna<4,>=2.5 in c:\\users\\bhudi\\anaconda3\\lib\\site-packages (from requests<3.0.0,>=2.13.0->spacy<3.7.0,>=3.6.0->en-core-web-sm==3.6.0) (3.4)\n",
      "Requirement already satisfied: urllib3<3,>=1.21.1 in c:\\users\\bhudi\\anaconda3\\lib\\site-packages (from requests<3.0.0,>=2.13.0->spacy<3.7.0,>=3.6.0->en-core-web-sm==3.6.0) (1.26.16)\n",
      "Requirement already satisfied: certifi>=2017.4.17 in c:\\users\\bhudi\\anaconda3\\lib\\site-packages (from requests<3.0.0,>=2.13.0->spacy<3.7.0,>=3.6.0->en-core-web-sm==3.6.0) (2020.6.20)\n",
      "Requirement already satisfied: blis<0.8.0,>=0.7.8 in c:\\users\\bhudi\\anaconda3\\lib\\site-packages (from thinc<8.2.0,>=8.1.8->spacy<3.7.0,>=3.6.0->en-core-web-sm==3.6.0) (0.7.11)\n",
      "Requirement already satisfied: confection<1.0.0,>=0.0.1 in c:\\users\\bhudi\\anaconda3\\lib\\site-packages (from thinc<8.2.0,>=8.1.8->spacy<3.7.0,>=3.6.0->en-core-web-sm==3.6.0) (0.1.3)\n",
      "Requirement already satisfied: colorama in c:\\users\\bhudi\\anaconda3\\lib\\site-packages (from tqdm<5.0.0,>=4.38.0->spacy<3.7.0,>=3.6.0->en-core-web-sm==3.6.0) (0.4.6)\n",
      "Requirement already satisfied: click<9.0.0,>=7.1.1 in c:\\users\\bhudi\\anaconda3\\lib\\site-packages (from typer<0.10.0,>=0.3.0->spacy<3.7.0,>=3.6.0->en-core-web-sm==3.6.0) (8.0.4)\n",
      "Requirement already satisfied: MarkupSafe>=2.0 in c:\\users\\bhudi\\anaconda3\\lib\\site-packages (from jinja2->spacy<3.7.0,>=3.6.0->en-core-web-sm==3.6.0) (2.1.1)\n",
      "Installing collected packages: en-core-web-sm\n",
      "Successfully installed en-core-web-sm-3.6.0\n",
      "\u001b[38;5;2m[+] Download and installation successful\u001b[0m\n",
      "You can now load the package via spacy.load('en_core_web_sm')\n"
     ]
    }
   ],
   "source": [
    "!pip install -U spacy\n",
    "!python -m spacy download en_core_web_sm"
   ]
  },
  {
   "cell_type": "code",
   "execution_count": 4,
   "metadata": {
    "colab": {},
    "colab_type": "code",
    "id": "gT1zyYMnZguO"
   },
   "outputs": [],
   "source": [
    "import spacy\n",
    "from spacy.lang.en.stop_words import STOP_WORDS\n",
    "from string import punctuation"
   ]
  },
  {
   "cell_type": "code",
   "execution_count": 6,
   "metadata": {
    "colab": {},
    "colab_type": "code",
    "id": "JrR_ipOKZ4Lp"
   },
   "outputs": [
    {
     "data": {
      "text/plain": [
       "['within',\n",
       " 'become',\n",
       " 'where',\n",
       " 'front',\n",
       " 'becoming',\n",
       " 'hereupon',\n",
       " 'move',\n",
       " 'here',\n",
       " 'but',\n",
       " 'amount',\n",
       " 'n‘t',\n",
       " 'last',\n",
       " '‘m',\n",
       " 'alone',\n",
       " 'no',\n",
       " 'nothing',\n",
       " 'seems',\n",
       " 'across',\n",
       " 'whatever',\n",
       " 'to',\n",
       " 'has',\n",
       " 'one',\n",
       " 'whenever',\n",
       " '’ve',\n",
       " 'are',\n",
       " 'somehow',\n",
       " 'towards',\n",
       " 'would',\n",
       " 'we',\n",
       " 'third',\n",
       " 'also',\n",
       " 'did',\n",
       " 'off',\n",
       " 'mostly',\n",
       " 'may',\n",
       " 'what',\n",
       " 'always',\n",
       " 'often',\n",
       " 'show',\n",
       " 'yours',\n",
       " 'doing',\n",
       " 'meanwhile',\n",
       " 'them',\n",
       " 'since',\n",
       " 'wherein',\n",
       " 'below',\n",
       " 'been',\n",
       " '‘ll',\n",
       " 'and',\n",
       " 'two',\n",
       " 'after',\n",
       " 'had',\n",
       " 'beside',\n",
       " 'none',\n",
       " 'with',\n",
       " 'hereby',\n",
       " 'a',\n",
       " 'who',\n",
       " 'whence',\n",
       " 'forty',\n",
       " 'another',\n",
       " 'both',\n",
       " 'becomes',\n",
       " 'nevertheless',\n",
       " 'noone',\n",
       " '’d',\n",
       " 'why',\n",
       " 'well',\n",
       " 'something',\n",
       " 'does',\n",
       " 'during',\n",
       " 'she',\n",
       " 'please',\n",
       " 'more',\n",
       " 'say',\n",
       " '‘ve',\n",
       " 'indeed',\n",
       " 'elsewhere',\n",
       " 'through',\n",
       " 'all',\n",
       " 'before',\n",
       " 'unless',\n",
       " 'although',\n",
       " 'nine',\n",
       " '‘s',\n",
       " 'seeming',\n",
       " 'or',\n",
       " 'myself',\n",
       " 'so',\n",
       " 'eleven',\n",
       " 'became',\n",
       " 'made',\n",
       " 'twenty',\n",
       " 'thus',\n",
       " 'everything',\n",
       " 'latter',\n",
       " 'an',\n",
       " 'n’t',\n",
       " 'first',\n",
       " 'between',\n",
       " 'when',\n",
       " 'upon',\n",
       " 'which',\n",
       " 'do',\n",
       " 'anything',\n",
       " 'around',\n",
       " 'nor',\n",
       " 'along',\n",
       " 'former',\n",
       " 'against',\n",
       " 'someone',\n",
       " 'sometimes',\n",
       " 'up',\n",
       " 'into',\n",
       " 'whither',\n",
       " 'ourselves',\n",
       " 'anywhere',\n",
       " '’m',\n",
       " 'else',\n",
       " 'due',\n",
       " 'empty',\n",
       " 'per',\n",
       " 'four',\n",
       " 'used',\n",
       " 'is',\n",
       " 'whoever',\n",
       " 'few',\n",
       " 'get',\n",
       " 'must',\n",
       " 'nowhere',\n",
       " 'without',\n",
       " 'once',\n",
       " 'everywhere',\n",
       " 'therefore',\n",
       " 'whose',\n",
       " 'moreover',\n",
       " 'though',\n",
       " 'your',\n",
       " 'most',\n",
       " 'yourself',\n",
       " 'each',\n",
       " 'thereupon',\n",
       " 'only',\n",
       " 'yet',\n",
       " 'never',\n",
       " 'namely',\n",
       " 'will',\n",
       " 'put',\n",
       " 'give',\n",
       " 'several',\n",
       " 'however',\n",
       " 'ca',\n",
       " 'somewhere',\n",
       " 'less',\n",
       " 'ever',\n",
       " 'his',\n",
       " 'full',\n",
       " 'her',\n",
       " \"'ve\",\n",
       " 'nobody',\n",
       " 'hence',\n",
       " 'whereby',\n",
       " 'fifteen',\n",
       " 'hers',\n",
       " 'among',\n",
       " 'almost',\n",
       " 'have',\n",
       " 'those',\n",
       " 'down',\n",
       " 'being',\n",
       " 'they',\n",
       " 'about',\n",
       " 'any',\n",
       " 'then',\n",
       " 'formerly',\n",
       " 'whereupon',\n",
       " 'that',\n",
       " 'quite',\n",
       " 'of',\n",
       " 'he',\n",
       " 'onto',\n",
       " 'part',\n",
       " \"n't\",\n",
       " \"'d\",\n",
       " 'mine',\n",
       " 'very',\n",
       " 'otherwise',\n",
       " 'as',\n",
       " 'every',\n",
       " 'other',\n",
       " 'regarding',\n",
       " 'how',\n",
       " 'least',\n",
       " 'us',\n",
       " 'himself',\n",
       " '‘re',\n",
       " 'it',\n",
       " 'until',\n",
       " 'bottom',\n",
       " 'many',\n",
       " 'throughout',\n",
       " 'whereas',\n",
       " 'from',\n",
       " 'too',\n",
       " 'while',\n",
       " 'either',\n",
       " 'others',\n",
       " 'thence',\n",
       " 'even',\n",
       " 'seem',\n",
       " 'this',\n",
       " 'there',\n",
       " 'the',\n",
       " 'in',\n",
       " 'on',\n",
       " 'be',\n",
       " 'herein',\n",
       " 'anyone',\n",
       " 'whole',\n",
       " 'above',\n",
       " 'for',\n",
       " 'i',\n",
       " 'latterly',\n",
       " 'their',\n",
       " 'name',\n",
       " 'via',\n",
       " 'if',\n",
       " 'call',\n",
       " 'further',\n",
       " 're',\n",
       " 'six',\n",
       " 'sometime',\n",
       " 'am',\n",
       " 'hundred',\n",
       " 'by',\n",
       " 'can',\n",
       " \"'m\",\n",
       " 'already',\n",
       " 'various',\n",
       " 'was',\n",
       " 'keep',\n",
       " 'out',\n",
       " 'than',\n",
       " 'own',\n",
       " 'such',\n",
       " 'except',\n",
       " 'same',\n",
       " 'take',\n",
       " 'three',\n",
       " 'over',\n",
       " '’re',\n",
       " 'hereafter',\n",
       " 'herself',\n",
       " 'twelve',\n",
       " 'its',\n",
       " \"'re\",\n",
       " 'besides',\n",
       " 'back',\n",
       " 'seemed',\n",
       " 'whom',\n",
       " 'go',\n",
       " 'now',\n",
       " 'serious',\n",
       " 'done',\n",
       " 'him',\n",
       " 'still',\n",
       " 'my',\n",
       " 'make',\n",
       " 'thereafter',\n",
       " 'together',\n",
       " 'just',\n",
       " 'sixty',\n",
       " 'much',\n",
       " '‘d',\n",
       " 'yourselves',\n",
       " 'perhaps',\n",
       " 'because',\n",
       " \"'ll\",\n",
       " 'next',\n",
       " 'behind',\n",
       " 'anyway',\n",
       " 'itself',\n",
       " 'neither',\n",
       " 'beforehand',\n",
       " '’ll',\n",
       " 'thru',\n",
       " 'themselves',\n",
       " 'five',\n",
       " 'were',\n",
       " 'whether',\n",
       " 'amongst',\n",
       " 'these',\n",
       " 'top',\n",
       " 'our',\n",
       " \"'s\",\n",
       " 'anyhow',\n",
       " 'some',\n",
       " 'afterwards',\n",
       " 'really',\n",
       " 'wherever',\n",
       " 'might',\n",
       " 'thereby',\n",
       " 'rather',\n",
       " 'fifty',\n",
       " 'ten',\n",
       " 'see',\n",
       " 'side',\n",
       " 'cannot',\n",
       " 'you',\n",
       " 'me',\n",
       " 'at',\n",
       " 'not',\n",
       " 'therein',\n",
       " 'everyone',\n",
       " 'eight',\n",
       " 'could',\n",
       " '’s',\n",
       " 'under',\n",
       " 'toward',\n",
       " 'whereafter',\n",
       " 'using',\n",
       " 'again',\n",
       " 'ours',\n",
       " 'should',\n",
       " 'enough',\n",
       " 'beyond']"
      ]
     },
     "execution_count": 6,
     "metadata": {},
     "output_type": "execute_result"
    }
   ],
   "source": [
    "stopwords = list(STOP_WORDS)\n",
    "stopwords"
   ]
  },
  {
   "cell_type": "code",
   "execution_count": 9,
   "metadata": {
    "colab": {},
    "colab_type": "code",
    "id": "PrE3D0S6aC_s"
   },
   "outputs": [
    {
     "name": "stdout",
     "output_type": "stream",
     "text": [
      "<spacy.lang.en.English object at 0x000001CF497D4E90>\n"
     ]
    }
   ],
   "source": [
    "nlp = spacy.load('en_core_web_sm')"
   ]
  },
  {
   "cell_type": "code",
   "execution_count": 11,
   "metadata": {
    "colab": {},
    "colab_type": "code",
    "id": "RntMWU8DaQDm"
   },
   "outputs": [
    {
     "data": {
      "text/plain": [
       "\n",
       "Maria Sharapova has basically no friends as tennis players on the WTA Tour. The Russian player has no problems in openly speaking about it and in a recent interview she said: 'I don't really hide any feelings too much. \n",
       "I think everyone knows this is my job here. When I'm on the courts or when I'm on the court playing, I'm a competitor and I want to beat every single person whether they're in the locker room or across the net.\n",
       "So I'm not the one to strike up a conversation about the weather and know that in the next few minutes I have to go and try to win a tennis match. \n",
       "I'm a pretty competitive girl. I say my hellos, but I'm not sending any players flowers as well. Uhm, I'm not really friendly or close to many players.\n",
       "I have not a lot of friends away from the courts.' When she said she is not really close to a lot of players, is that something strategic that she is doing? Is it different on the men's tour than the women's tour? 'No, not at all.\n",
       "I think just because you're in the same sport doesn't mean that you have to be friends with everyone just because you're categorized, you're a tennis player, so you're going to get along with tennis players. \n",
       "I think every person has different interests. I have friends that have completely different jobs and interests, and I've met them in very different parts of my life.\n",
       "I think everyone just thinks because we're tennis players we should be the greatest of friends. But ultimately tennis is just a very small part of what we do. \n",
       "There are so many other things that we're interested in, that we do.'"
      ]
     },
     "execution_count": 11,
     "metadata": {},
     "output_type": "execute_result"
    }
   ],
   "source": [
    "doc = nlp(text)\n",
    "doc"
   ]
  },
  {
   "cell_type": "code",
   "execution_count": 60,
   "metadata": {
    "colab": {
     "base_uri": "https://localhost:8080/",
     "height": 54
    },
    "colab_type": "code",
    "id": "Pqre-o8AaXRA",
    "outputId": "b300f8b7-9437-49f2-81f3-08620d946c1e"
   },
   "outputs": [
    {
     "name": "stdout",
     "output_type": "stream",
     "text": [
      "['\\n', 'Maria', 'Sharapova', 'has', 'basically', 'no', 'friends', 'as', 'tennis', 'players', 'on', 'the', 'WTA', 'Tour', '.', 'The', 'Russian', 'player', 'has', 'no', 'problems', 'in', 'openly', 'speaking', 'about', 'it', 'and', 'in', 'a', 'recent', 'interview', 'she', 'said', ':', \"'\", 'I', 'do', \"n't\", 'really', 'hide', 'any', 'feelings', 'too', 'much', '.', '\\n', 'I', 'think', 'everyone', 'knows', 'this', 'is', 'my', 'job', 'here', '.', 'When', 'I', \"'m\", 'on', 'the', 'courts', 'or', 'when', 'I', \"'m\", 'on', 'the', 'court', 'playing', ',', 'I', \"'m\", 'a', 'competitor', 'and', 'I', 'want', 'to', 'beat', 'every', 'single', 'person', 'whether', 'they', \"'re\", 'in', 'the', 'locker', 'room', 'or', 'across', 'the', 'net', '.', '\\n', 'So', 'I', \"'m\", 'not', 'the', 'one', 'to', 'strike', 'up', 'a', 'conversation', 'about', 'the', 'weather', 'and', 'know', 'that', 'in', 'the', 'next', 'few', 'minutes', 'I', 'have', 'to', 'go', 'and', 'try', 'to', 'win', 'a', 'tennis', 'match', '.', '\\n', 'I', \"'m\", 'a', 'pretty', 'competitive', 'girl', '.', 'I', 'say', 'my', 'hellos', ',', 'but', 'I', \"'m\", 'not', 'sending', 'any', 'players', 'flowers', 'as', 'well', '.', 'Uhm', ',', 'I', \"'m\", 'not', 'really', 'friendly', 'or', 'close', 'to', 'many', 'players', '.', '\\n', 'I', 'have', 'not', 'a', 'lot', 'of', 'friends', 'away', 'from', 'the', 'courts', '.', \"'\", 'When', 'she', 'said', 'she', 'is', 'not', 'really', 'close', 'to', 'a', 'lot', 'of', 'players', ',', 'is', 'that', 'something', 'strategic', 'that', 'she', 'is', 'doing', '?', 'Is', 'it', 'different', 'on', 'the', 'men', \"'s\", 'tour', 'than', 'the', 'women', \"'s\", 'tour', '?', \"'\", 'No', ',', 'not', 'at', 'all', '.', '\\n', 'I', 'think', 'just', 'because', 'you', \"'re\", 'in', 'the', 'same', 'sport', 'does', \"n't\", 'mean', 'that', 'you', 'have', 'to', 'be', 'friends', 'with', 'everyone', 'just', 'because', 'you', \"'re\", 'categorized', ',', 'you', \"'re\", 'a', 'tennis', 'player', ',', 'so', 'you', \"'re\", 'going', 'to', 'get', 'along', 'with', 'tennis', 'players', '.', '\\n', 'I', 'think', 'every', 'person', 'has', 'different', 'interests', '.', 'I', 'have', 'friends', 'that', 'have', 'completely', 'different', 'jobs', 'and', 'interests', ',', 'and', 'I', \"'ve\", 'met', 'them', 'in', 'very', 'different', 'parts', 'of', 'my', 'life', '.', '\\n', 'I', 'think', 'everyone', 'just', 'thinks', 'because', 'we', \"'re\", 'tennis', 'players', 'we', 'should', 'be', 'the', 'greatest', 'of', 'friends', '.', 'But', 'ultimately', 'tennis', 'is', 'just', 'a', 'very', 'small', 'part', 'of', 'what', 'we', 'do', '.', '\\n', 'There', 'are', 'so', 'many', 'other', 'things', 'that', 'we', \"'re\", 'interested', 'in', ',', 'that', 'we', 'do', '.', \"'\", '\\n']\n"
     ]
    }
   ],
   "source": [
    "tokens = [token.text for token in doc]\n",
    "print(tokens)"
   ]
  },
  {
   "cell_type": "code",
   "execution_count": 12,
   "metadata": {
    "colab": {
     "base_uri": "https://localhost:8080/",
     "height": 34
    },
    "colab_type": "code",
    "id": "Tn2Uv-F3HDpw",
    "outputId": "6325b5fd-cc77-4ebd-bf7f-43ca48ed905a"
   },
   "outputs": [
    {
     "data": {
      "text/plain": [
       "'!\"#$%&\\'()*+,-./:;<=>?@[\\\\]^_`{|}~\\n'"
      ]
     },
     "execution_count": 12,
     "metadata": {},
     "output_type": "execute_result"
    }
   ],
   "source": [
    "punctuation = punctuation + '\\n'\n",
    "punctuation"
   ]
  },
  {
   "cell_type": "code",
   "execution_count": 13,
   "metadata": {
    "colab": {},
    "colab_type": "code",
    "id": "huSfsmdrWK84"
   },
   "outputs": [],
   "source": [
    "word_frequencies = {}\n",
    "for word in doc:\n",
    "  if word.text.lower() not in stopwords:\n",
    "    if word.text.lower() not in punctuation:\n",
    "      if word.text not in word_frequencies.keys():\n",
    "        word_frequencies[word.text] = 1\n",
    "      else:\n",
    "        word_frequencies[word.text] += 1"
   ]
  },
  {
   "cell_type": "code",
   "execution_count": 14,
   "metadata": {
    "colab": {
     "base_uri": "https://localhost:8080/",
     "height": 54
    },
    "colab_type": "code",
    "id": "EgiBcbxFXZj2",
    "outputId": "0e337628-198e-4ac5-fd31-3ac152800854"
   },
   "outputs": [
    {
     "name": "stdout",
     "output_type": "stream",
     "text": [
      "{'Maria': 1, 'Sharapova': 1, 'basically': 1, 'friends': 5, 'tennis': 6, 'players': 6, 'WTA': 1, 'Tour': 1, 'Russian': 1, 'player': 2, 'problems': 1, 'openly': 1, 'speaking': 1, 'recent': 1, 'interview': 1, 'said': 2, 'hide': 1, 'feelings': 1, 'think': 4, 'knows': 1, 'job': 1, 'courts': 2, 'court': 1, 'playing': 1, 'competitor': 1, 'want': 1, 'beat': 1, 'single': 1, 'person': 2, 'locker': 1, 'room': 1, 'net': 1, 'strike': 1, 'conversation': 1, 'weather': 1, 'know': 1, 'minutes': 1, 'try': 1, 'win': 1, 'match': 1, 'pretty': 1, 'competitive': 1, 'girl': 1, 'hellos': 1, 'sending': 1, 'flowers': 1, 'Uhm': 1, 'friendly': 1, 'close': 2, 'lot': 2, 'away': 1, 'strategic': 1, 'different': 4, 'men': 1, 'tour': 2, 'women': 1, 'sport': 1, 'mean': 1, 'categorized': 1, 'going': 1, 'interests': 2, 'completely': 1, 'jobs': 1, 'met': 1, 'parts': 1, 'life': 1, 'thinks': 1, 'greatest': 1, 'ultimately': 1, 'small': 1, 'things': 1, 'interested': 1}\n"
     ]
    }
   ],
   "source": [
    "print(word_frequencies)"
   ]
  },
  {
   "cell_type": "code",
   "execution_count": 15,
   "metadata": {
    "colab": {},
    "colab_type": "code",
    "id": "59QpWTlkX6UC"
   },
   "outputs": [],
   "source": [
    "max_frequency = max(word_frequencies.values())"
   ]
  },
  {
   "cell_type": "code",
   "execution_count": 23,
   "metadata": {
    "colab": {
     "base_uri": "https://localhost:8080/",
     "height": 34
    },
    "colab_type": "code",
    "id": "oIQGF1vAYGoD",
    "outputId": "f72c0f9a-4d57-44bf-ca63-1a0fc8b87d3b"
   },
   "outputs": [
    {
     "data": {
      "text/plain": [
       "6"
      ]
     },
     "execution_count": 23,
     "metadata": {},
     "output_type": "execute_result"
    }
   ],
   "source": [
    "max_frequency"
   ]
  },
  {
   "cell_type": "code",
   "execution_count": 25,
   "metadata": {
    "colab": {},
    "colab_type": "code",
    "id": "Gx_S5rRXYX2H"
   },
   "outputs": [],
   "source": [
    "for word in word_frequencies.keys():\n",
    "  word_frequencies[word] = word_frequencies[word]/max_frequency"
   ]
  },
  {
   "cell_type": "code",
   "execution_count": 67,
   "metadata": {
    "colab": {
     "base_uri": "https://localhost:8080/",
     "height": 54
    },
    "colab_type": "code",
    "id": "H0QbAJA5YuG0",
    "outputId": "5816a67b-488e-43f5-c267-e51df1194828"
   },
   "outputs": [
    {
     "name": "stdout",
     "output_type": "stream",
     "text": [
      "{'Maria': 0.16666666666666666, 'Sharapova': 0.16666666666666666, 'basically': 0.16666666666666666, 'friends': 0.8333333333333334, 'tennis': 1.0, 'players': 1.0, 'WTA': 0.16666666666666666, 'Tour': 0.16666666666666666, 'Russian': 0.16666666666666666, 'player': 0.3333333333333333, 'problems': 0.16666666666666666, 'openly': 0.16666666666666666, 'speaking': 0.16666666666666666, 'recent': 0.16666666666666666, 'interview': 0.16666666666666666, 'said': 0.3333333333333333, 'hide': 0.16666666666666666, 'feelings': 0.16666666666666666, 'think': 0.6666666666666666, 'knows': 0.16666666666666666, 'job': 0.16666666666666666, 'courts': 0.3333333333333333, 'court': 0.16666666666666666, 'playing': 0.16666666666666666, 'competitor': 0.16666666666666666, 'want': 0.16666666666666666, 'beat': 0.16666666666666666, 'single': 0.16666666666666666, 'person': 0.3333333333333333, 'locker': 0.16666666666666666, 'room': 0.16666666666666666, 'net': 0.16666666666666666, 'strike': 0.16666666666666666, 'conversation': 0.16666666666666666, 'weather': 0.16666666666666666, 'know': 0.16666666666666666, 'minutes': 0.16666666666666666, 'try': 0.16666666666666666, 'win': 0.16666666666666666, 'match': 0.16666666666666666, 'pretty': 0.16666666666666666, 'competitive': 0.16666666666666666, 'girl': 0.16666666666666666, 'hellos': 0.16666666666666666, 'sending': 0.16666666666666666, 'flowers': 0.16666666666666666, 'Uhm': 0.16666666666666666, 'friendly': 0.16666666666666666, 'close': 0.3333333333333333, 'lot': 0.3333333333333333, 'away': 0.16666666666666666, 'strategic': 0.16666666666666666, 'different': 0.6666666666666666, 'men': 0.16666666666666666, 'tour': 0.3333333333333333, 'women': 0.16666666666666666, 'sport': 0.16666666666666666, 'mean': 0.16666666666666666, 'categorized': 0.16666666666666666, 'going': 0.16666666666666666, 'interests': 0.3333333333333333, 'completely': 0.16666666666666666, 'jobs': 0.16666666666666666, 'met': 0.16666666666666666, 'parts': 0.16666666666666666, 'life': 0.16666666666666666, 'thinks': 0.16666666666666666, 'greatest': 0.16666666666666666, 'ultimately': 0.16666666666666666, 'small': 0.16666666666666666, 'things': 0.16666666666666666, 'interested': 0.16666666666666666}\n"
     ]
    }
   ],
   "source": [
    "print(word_frequencies)"
   ]
  },
  {
   "cell_type": "code",
   "execution_count": 26,
   "metadata": {
    "colab": {
     "base_uri": "https://localhost:8080/",
     "height": 224
    },
    "colab_type": "code",
    "id": "d9vbQAUDZCUV",
    "outputId": "f6586585-addb-46e3-8d4f-c8e38edb5baf"
   },
   "outputs": [
    {
     "name": "stdout",
     "output_type": "stream",
     "text": [
      "[\n",
      "Maria Sharapova has basically no friends as tennis players on the WTA Tour., The Russian player has no problems in openly speaking about it and in a recent interview she said: 'I don't really hide any feelings too much. \n",
      ", I think everyone knows this is my job here., When I'm on the courts or when I'm on the court playing, I'm a competitor and I want to beat every single person whether they're in the locker room or across the net.\n",
      ", So I'm not the one to strike up a conversation about the weather and know that in the next few minutes I have to go and try to win a tennis match. \n",
      ", I'm a pretty competitive girl., I say my hellos, but I'm not sending any players flowers as well., Uhm, I'm not really friendly or close to many players.\n",
      ", I have not a lot of friends away from the courts.', When she said she is not really close to a lot of players, is that something strategic that she is doing?, Is it different on the men's tour than the women's tour?, ', No, not at all.\n",
      ", I think just because you're in the same sport doesn't mean that you have to be friends with everyone just because you're categorized, you're a tennis player, so you're going to get along with tennis players. \n",
      ", I think every person has different interests., I have friends that have completely different jobs and interests, and I've met them in very different parts of my life.\n",
      ", I think everyone just thinks because we're tennis players we should be the greatest of friends., But ultimately tennis is just a very small part of what we do. \n",
      ", There are so many other things that we're interested in, that we do.'\n",
      "]\n"
     ]
    }
   ],
   "source": [
    "sentence_tokens = [sent for sent in doc.sents]\n",
    "print(sentence_tokens)"
   ]
  },
  {
   "cell_type": "code",
   "execution_count": 27,
   "metadata": {
    "colab": {},
    "colab_type": "code",
    "id": "-3Ee54JWZk5G"
   },
   "outputs": [],
   "source": [
    "sentence_scores = {}\n",
    "for sent in sentence_tokens:\n",
    "  for word in sent:\n",
    "    if word.text.lower() in word_frequencies.keys():\n",
    "      if sent not in sentence_scores.keys():\n",
    "        sentence_scores[sent] = word_frequencies[word.text.lower()]\n",
    "      else:\n",
    "        sentence_scores[sent] += word_frequencies[word.text.lower()]\n"
   ]
  },
  {
   "cell_type": "code",
   "execution_count": 29,
   "metadata": {
    "colab": {
     "base_uri": "https://localhost:8080/",
     "height": 394
    },
    "colab_type": "code",
    "id": "eHuAYodnIg5I",
    "outputId": "5ad12dd5-1e46-4fc4-ef01-d3fd682bd359"
   },
   "outputs": [
    {
     "data": {
      "text/plain": [
       "{\n",
       " Maria Sharapova has basically no friends as tennis players on the WTA Tour.: 3.3333333333333335,\n",
       " The Russian player has no problems in openly speaking about it and in a recent interview she said: 'I don't really hide any feelings too much. : 1.8333333333333333,\n",
       " I think everyone knows this is my job here.: 0.9999999999999999,\n",
       " When I'm on the courts or when I'm on the court playing, I'm a competitor and I want to beat every single person whether they're in the locker room or across the net.: 2.1666666666666665,\n",
       " So I'm not the one to strike up a conversation about the weather and know that in the next few minutes I have to go and try to win a tennis match. : 2.333333333333333,\n",
       " I'm a pretty competitive girl.: 0.5,\n",
       " I say my hellos, but I'm not sending any players flowers as well.: 1.5,\n",
       " Uhm, I'm not really friendly or close to many players.: 1.5,\n",
       " I have not a lot of friends away from the courts.': 1.6666666666666667,\n",
       " When she said she is not really close to a lot of players, is that something strategic that she is doing?: 2.1666666666666665,\n",
       " Is it different on the men's tour than the women's tour?: 1.6666666666666665,\n",
       " I think just because you're in the same sport doesn't mean that you have to be friends with everyone just because you're categorized, you're a tennis player, so you're going to get along with tennis players. : 5.5,\n",
       " I think every person has different interests.: 1.9999999999999998,\n",
       " I have friends that have completely different jobs and interests, and I've met them in very different parts of my life.: 3.3333333333333326,\n",
       " I think everyone just thinks because we're tennis players we should be the greatest of friends.: 3.833333333333333,\n",
       " But ultimately tennis is just a very small part of what we do. : 1.3333333333333335,\n",
       " There are so many other things that we're interested in, that we do.': 0.3333333333333333}"
      ]
     },
     "execution_count": 29,
     "metadata": {},
     "output_type": "execute_result"
    }
   ],
   "source": [
    "sentence_scores"
   ]
  },
  {
   "cell_type": "code",
   "execution_count": 30,
   "metadata": {
    "colab": {},
    "colab_type": "code",
    "id": "-8BICcjZJCpU"
   },
   "outputs": [],
   "source": [
    "from heapq import nlargest"
   ]
  },
  {
   "cell_type": "code",
   "execution_count": 31,
   "metadata": {
    "colab": {
     "base_uri": "https://localhost:8080/",
     "height": 34
    },
    "colab_type": "code",
    "id": "n7QOpoldJTcY",
    "outputId": "0c98ff90-aff9-4ad9-edc1-602b161a5b26"
   },
   "outputs": [
    {
     "data": {
      "text/plain": [
       "5"
      ]
     },
     "execution_count": 31,
     "metadata": {},
     "output_type": "execute_result"
    }
   ],
   "source": [
    "select_length = int(len(sentence_tokens)*0.3)\n",
    "select_length"
   ]
  },
  {
   "cell_type": "code",
   "execution_count": 32,
   "metadata": {
    "colab": {},
    "colab_type": "code",
    "id": "0qYYWV82JygM"
   },
   "outputs": [],
   "source": [
    "summary = nlargest(select_length, sentence_scores, key = sentence_scores.get)"
   ]
  },
  {
   "cell_type": "code",
   "execution_count": 33,
   "metadata": {
    "colab": {
     "base_uri": "https://localhost:8080/",
     "height": 156
    },
    "colab_type": "code",
    "id": "TR5wQN6UKDrt",
    "outputId": "82a53ef6-31ab-400e-a51e-b80a7fcfb443"
   },
   "outputs": [
    {
     "data": {
      "text/plain": [
       "[I think just because you're in the same sport doesn't mean that you have to be friends with everyone just because you're categorized, you're a tennis player, so you're going to get along with tennis players. ,\n",
       " I think everyone just thinks because we're tennis players we should be the greatest of friends.,\n",
       " \n",
       " Maria Sharapova has basically no friends as tennis players on the WTA Tour.,\n",
       " I have friends that have completely different jobs and interests, and I've met them in very different parts of my life.,\n",
       " So I'm not the one to strike up a conversation about the weather and know that in the next few minutes I have to go and try to win a tennis match. ]"
      ]
     },
     "execution_count": 33,
     "metadata": {},
     "output_type": "execute_result"
    }
   ],
   "source": [
    "summary"
   ]
  },
  {
   "cell_type": "code",
   "execution_count": 34,
   "metadata": {
    "colab": {},
    "colab_type": "code",
    "id": "k3cGqkqaKWnT"
   },
   "outputs": [],
   "source": [
    "final_summary = [word.text for word in summary]"
   ]
  },
  {
   "cell_type": "code",
   "execution_count": 35,
   "metadata": {
    "colab": {},
    "colab_type": "code",
    "id": "1pw4ElbUKpMB"
   },
   "outputs": [],
   "source": [
    "summary = ' '.join(final_summary)"
   ]
  },
  {
   "cell_type": "code",
   "execution_count": 36,
   "metadata": {
    "colab": {
     "base_uri": "https://localhost:8080/",
     "height": 224
    },
    "colab_type": "code",
    "id": "Wa66EgbzLIgR",
    "outputId": "a72e4c9e-697f-4ed1-d987-3e966a6ca086"
   },
   "outputs": [
    {
     "name": "stdout",
     "output_type": "stream",
     "text": [
      "\n",
      "Maria Sharapova has basically no friends as tennis players on the WTA Tour. The Russian player has no problems in openly speaking about it and in a recent interview she said: 'I don't really hide any feelings too much. \n",
      "I think everyone knows this is my job here. When I'm on the courts or when I'm on the court playing, I'm a competitor and I want to beat every single person whether they're in the locker room or across the net.\n",
      "So I'm not the one to strike up a conversation about the weather and know that in the next few minutes I have to go and try to win a tennis match. \n",
      "I'm a pretty competitive girl. I say my hellos, but I'm not sending any players flowers as well. Uhm, I'm not really friendly or close to many players.\n",
      "I have not a lot of friends away from the courts.' When she said she is not really close to a lot of players, is that something strategic that she is doing? Is it different on the men's tour than the women's tour? 'No, not at all.\n",
      "I think just because you're in the same sport doesn't mean that you have to be friends with everyone just because you're categorized, you're a tennis player, so you're going to get along with tennis players. \n",
      "I think every person has different interests. I have friends that have completely different jobs and interests, and I've met them in very different parts of my life.\n",
      "I think everyone just thinks because we're tennis players we should be the greatest of friends. But ultimately tennis is just a very small part of what we do. \n",
      "There are so many other things that we're interested in, that we do.'\n",
      "\n"
     ]
    }
   ],
   "source": [
    "print(text)"
   ]
  },
  {
   "cell_type": "code",
   "execution_count": 37,
   "metadata": {
    "colab": {
     "base_uri": "https://localhost:8080/",
     "height": 122
    },
    "colab_type": "code",
    "id": "no_-dxurKz1c",
    "outputId": "c3207863-71b2-40f0-b613-2694811d7933"
   },
   "outputs": [
    {
     "name": "stdout",
     "output_type": "stream",
     "text": [
      "I think just because you're in the same sport doesn't mean that you have to be friends with everyone just because you're categorized, you're a tennis player, so you're going to get along with tennis players. \n",
      " I think everyone just thinks because we're tennis players we should be the greatest of friends. \n",
      "Maria Sharapova has basically no friends as tennis players on the WTA Tour. I have friends that have completely different jobs and interests, and I've met them in very different parts of my life.\n",
      " So I'm not the one to strike up a conversation about the weather and know that in the next few minutes I have to go and try to win a tennis match. \n",
      "\n"
     ]
    }
   ],
   "source": [
    "print(summary)"
   ]
  }
 ],
 "metadata": {
  "colab": {
   "name": "Text_Summarization.ipynb",
   "provenance": []
  },
  "kernelspec": {
   "display_name": "Python 3 (ipykernel)",
   "language": "python",
   "name": "python3"
  },
  "language_info": {
   "codemirror_mode": {
    "name": "ipython",
    "version": 3
   },
   "file_extension": ".py",
   "mimetype": "text/x-python",
   "name": "python",
   "nbconvert_exporter": "python",
   "pygments_lexer": "ipython3",
   "version": "3.11.4"
  }
 },
 "nbformat": 4,
 "nbformat_minor": 1
}
