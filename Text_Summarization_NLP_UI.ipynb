{
 "cells": [
  {
   "cell_type": "markdown",
   "metadata": {},
   "source": [
    "# **Text Summarization using NLP**\n",
    "\n",
    "\n",
    "**What is text summarization?**\n",
    "\n",
    "Text summarization is the process of extracting the most important information from a source text."
   ]
  },
  {
   "cell_type": "markdown",
   "metadata": {},
   "source": [
    "**Why automatic text summarization?**\n",
    "\n",
    "\n",
    "\n",
    "1.   Summaries reduce reading time.\n",
    "2.   When researching documents,summaries make the  selection process easier.\n",
    "3.   Automatic summarization improves the effectiveness of indexing.\n",
    "4.   Automatice summarization algorithms are less biased than human summarization.\n",
    "5.   Personalized summaries are useful in question-answering systems as they provied personalized information.\n",
    "6.   Using automatic or semi-automatic summarization systems enables commercial abstract services to increase the number of text documents they are able to process."
   ]
  },
  {
   "cell_type": "markdown",
   "metadata": {},
   "source": [
    "**How to do text summarization**\n",
    "\n",
    "\n",
    "*   Text cleaning\n",
    "*   Sentence tokenization\n",
    "*   Word tokenzation\n",
    "*   Word-frequency table\n",
    "*   Summarization "
   ]
  },
  {
   "cell_type": "markdown",
   "metadata": {},
   "source": [
    "**Importing Libraries**"
   ]
  },
  {
   "cell_type": "code",
   "execution_count": 11,
   "metadata": {},
   "outputs": [],
   "source": [
    "import tkinter as tk\n",
    "from tkinter import scrolledtext\n",
    "from tkinter import messagebox\n",
    "from heapq import nlargest\n",
    "import spacy\n",
    "from spacy.lang.en.stop_words import STOP_WORDS\n",
    "from string import punctuation"
   ]
  },
  {
   "cell_type": "markdown",
   "metadata": {},
   "source": [
    "**Load Preprocessing corpus**"
   ]
  },
  {
   "cell_type": "code",
   "execution_count": 12,
   "metadata": {},
   "outputs": [],
   "source": [
    "stopwords = list(STOP_WORDS)\n",
    "nlp = spacy.load('en_core_web_sm')"
   ]
  },
  {
   "cell_type": "markdown",
   "metadata": {},
   "source": [
    "**Function To Take Input and Display it**"
   ]
  },
  {
   "cell_type": "code",
   "execution_count": 13,
   "metadata": {},
   "outputs": [],
   "source": [
    "def summarize_text():\n",
    "    text = input_textbox.get(\"1.0\", tk.END)\n",
    "    doc = nlp(text)\n",
    "    \n",
    "    word_frequencies = {}\n",
    "    for word in doc:\n",
    "        if word.text.lower() not in stopwords and word.text.lower() not in punctuation:\n",
    "            if word.text not in word_frequencies:\n",
    "                word_frequencies[word.text] = 1\n",
    "            else:\n",
    "                word_frequencies[word.text] += 1\n",
    "    \n",
    "    max_frequency = max(word_frequencies.values())\n",
    "    for word in word_frequencies:\n",
    "        word_frequencies[word] = word_frequencies[word] / max_frequency\n",
    "    \n",
    "    sentence_tokens = [sent for sent in doc.sents]\n",
    "    sentence_scores = {}\n",
    "    for sent in sentence_tokens:\n",
    "        for word in sent:\n",
    "            if word.text.lower() in word_frequencies:\n",
    "                if sent not in sentence_scores:\n",
    "                    sentence_scores[sent] = word_frequencies[word.text.lower()]\n",
    "                else:\n",
    "                    sentence_scores[sent] += word_frequencies[word.text.lower()]\n",
    "    \n",
    "    select_length = int(len(sentence_tokens) * 0.3)\n",
    "    summary = nlargest(select_length, sentence_scores, key=sentence_scores.get)\n",
    "    final_summary = ' '.join([word.text for word in summary])\n",
    "    \n",
    "    output_textbox.delete(1.0, tk.END)\n",
    "    output_textbox.insert(tk.END, final_summary)"
   ]
  },
  {
   "cell_type": "markdown",
   "metadata": {},
   "source": [
    "**Fucntion to Copy Output Text**"
   ]
  },
  {
   "cell_type": "code",
   "execution_count": 14,
   "metadata": {},
   "outputs": [],
   "source": [
    "import pyperclip\n",
    "def copy_to_clipboard():\n",
    "    summary = output_textbox.get(\"1.0\", tk.END)\n",
    "    pyperclip.copy(summary)\n",
    "    messagebox.showinfo(\"Info\", \"Summary copied to clipboard!\")"
   ]
  },
  {
   "cell_type": "markdown",
   "metadata": {},
   "source": [
    "**Main Window**"
   ]
  },
  {
   "cell_type": "code",
   "execution_count": 15,
   "metadata": {},
   "outputs": [
    {
     "data": {
      "text/plain": [
       "''"
      ]
     },
     "execution_count": 15,
     "metadata": {},
     "output_type": "execute_result"
    }
   ],
   "source": [
    "root = tk.Tk()\n",
    "root.title(\"Text Summarization using NLP\")\n",
    "root.geometry(\"800x600\")"
   ]
  },
  {
   "cell_type": "markdown",
   "metadata": {},
   "source": [
    "**Input Box**"
   ]
  },
  {
   "cell_type": "code",
   "execution_count": 16,
   "metadata": {},
   "outputs": [],
   "source": [
    "input_label = tk.Label(root, text=\"Enter Text to Summarize:\", font=(\"Arial\", 14))\n",
    "input_label.pack(pady=10)\n",
    "input_textbox = scrolledtext.ScrolledText(root, height=10, width=50, font=(\"Arial\", 12))\n",
    "input_textbox.pack(pady=10)"
   ]
  },
  {
   "cell_type": "markdown",
   "metadata": {},
   "source": [
    "**Summarize Button**"
   ]
  },
  {
   "cell_type": "code",
   "execution_count": 17,
   "metadata": {},
   "outputs": [],
   "source": [
    "summarize_button = tk.Button(root, text=\"Summarize\", command=summarize_text, font=(\"Arial\", 12), bg=\"green\", fg=\"white\")\n",
    "summarize_button.pack(pady=10)"
   ]
  },
  {
   "cell_type": "markdown",
   "metadata": {},
   "source": [
    "**Output Box**"
   ]
  },
  {
   "cell_type": "code",
   "execution_count": 18,
   "metadata": {},
   "outputs": [],
   "source": [
    "output_label = tk.Label(root, text=\"Summarized Text:\", font=(\"Arial\", 14))\n",
    "output_label.pack(pady=10)\n",
    "output_textbox = scrolledtext.ScrolledText(root, height=10, width=50, font=(\"Arial\", 12))\n",
    "output_textbox.pack(pady=10)"
   ]
  },
  {
   "cell_type": "code",
   "execution_count": 19,
   "metadata": {},
   "outputs": [],
   "source": [
    "copy_button = tk.Button(root, text=\"Copy to Clipboard\", command=copy_to_clipboard, font=(\"Arial\", 12), bg=\"green\", fg=\"white\")\n",
    "copy_button.pack(pady=10)"
   ]
  },
  {
   "cell_type": "markdown",
   "metadata": {},
   "source": [
    "**Main Loop**"
   ]
  },
  {
   "cell_type": "code",
   "execution_count": 20,
   "metadata": {},
   "outputs": [],
   "source": [
    "root.mainloop()"
   ]
  },
  {
   "cell_type": "code",
   "execution_count": null,
   "metadata": {},
   "outputs": [],
   "source": []
  }
 ],
 "metadata": {
  "colab": {
   "name": "Text_Summarization.ipynb",
   "provenance": []
  },
  "kernelspec": {
   "display_name": "Python 3 (ipykernel)",
   "language": "python",
   "name": "python3"
  },
  "language_info": {
   "codemirror_mode": {
    "name": "ipython",
    "version": 3
   },
   "file_extension": ".py",
   "mimetype": "text/x-python",
   "name": "python",
   "nbconvert_exporter": "python",
   "pygments_lexer": "ipython3",
   "version": "3.11.4"
  }
 },
 "nbformat": 4,
 "nbformat_minor": 1
}
